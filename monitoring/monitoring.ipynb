{
 "cells": [
  {
   "cell_type": "code",
   "execution_count": 1,
   "id": "cfa2cd88-0e88-4d77-896d-a15260191155",
   "metadata": {},
   "outputs": [],
   "source": [
    "import pandas as pd\n",
    "import seaborn as sns\n",
    "from sklearn.naive_bayes import GaussianNB\n",
    "from sklearn.neighbors import KNeighborsClassifier\n",
    "from sklearn.metrics import confusion_matrix, classification_report\n",
    "from sklearn.metrics import precision_recall_fscore_support as score\n",
    "import mlflow\n",
    "import datetime\n",
    "import pickle\n",
    "import warnings\n",
    "import numpy as np\n",
    "from sklearn.model_selection import train_test_split\n",
    "from arize.pandas.logger import Client, Schema\n",
    "import datetime as dt\n",
    "from arize.utils.types import ModelTypes, Environments\n",
    "warnings.filterwarnings(\"ignore\")\n",
    "import mlflow.pyfunc\n",
    "import mlflow.pyfunc\n"
   ]
  },
  {
   "cell_type": "code",
   "execution_count": 2,
   "id": "d51a09fa-19c3-49ad-9076-d5943744e3f7",
   "metadata": {},
   "outputs": [],
   "source": [
    "version = \"v2.1\" \n",
    "data_url = \"../data/customer_churn_dataset.csv\""
   ]
  },
  {
   "cell_type": "code",
   "execution_count": 3,
   "id": "0c9e98cd-bcb8-48f6-8e44-c33734888f4d",
   "metadata": {},
   "outputs": [],
   "source": [
    "import sys  \n",
    "sys.path.insert(0, '../backend/src')"
   ]
  },
  {
   "cell_type": "code",
   "execution_count": 14,
   "id": "6cec049d-657f-4fa2-9798-0644ca0e78cf",
   "metadata": {},
   "outputs": [],
   "source": [
    "from data_preprocessing_monitoring import transform_data\n",
    "from clean_data_csv import clean_data"
   ]
  },
  {
   "cell_type": "code",
   "execution_count": 15,
   "id": "6877e6e8-6c5a-4bd8-a2b3-adcf4a0e2669",
   "metadata": {},
   "outputs": [],
   "source": [
    "from dotenv import load_dotenv\n",
    "import os\n",
    "load_dotenv(\"../backend/src/.env\")\n",
    "\n",
    "DagsHub_username = os.getenv(\"DagsHub_username\")\n",
    "DagsHub_token=os.getenv(\"DagsHub_token\")"
   ]
  },
  {
   "cell_type": "code",
   "execution_count": 16,
   "id": "24335859-8f27-4e9d-8e27-ab108493b369",
   "metadata": {},
   "outputs": [],
   "source": [
    "import os\n",
    "os.environ['MLFLOW_TRACKING_USERNAME']= DagsHub_username\n",
    "os.environ[\"MLFLOW_TRACKING_PASSWORD\"] = DagsHub_token"
   ]
  },
  {
   "cell_type": "code",
   "execution_count": 17,
   "id": "2cded4f0-9fa0-42aa-b6aa-4fe9b3a00b6e",
   "metadata": {},
   "outputs": [
    {
     "data": {
      "text/plain": [
       "<Experiment: artifact_location='mlflow-artifacts:/566ae890f7ca4c2db92c2a642aca7189', creation_time=1733732561769, experiment_id='0', last_update_time=1733732561769, lifecycle_stage='active', name='churn-experiment', tags={}>"
      ]
     },
     "execution_count": 17,
     "metadata": {},
     "output_type": "execute_result"
    }
   ],
   "source": [
    "#setup mlflow\n",
    "mlflow.set_tracking_uri('https://dagshub.com/rami4real/mymlproject.mlflow') #your mlfow tracking uri\n",
    "mlflow.set_experiment(\"churn-experiment\")"
   ]
  },
  {
   "cell_type": "code",
   "execution_count": 18,
   "id": "f40c1adc-aca8-4fd8-a16f-fcb7f9fcf553",
   "metadata": {},
   "outputs": [],
   "source": [
    "raw_train = pd.read_csv(data_url)"
   ]
  },
  {
   "cell_type": "code",
   "execution_count": 19,
   "id": "e5de90b8-0850-475e-8ff5-9c582a1abe9a",
   "metadata": {},
   "outputs": [
    {
     "data": {
      "text/html": [
       "<div>\n",
       "<style scoped>\n",
       "    .dataframe tbody tr th:only-of-type {\n",
       "        vertical-align: middle;\n",
       "    }\n",
       "\n",
       "    .dataframe tbody tr th {\n",
       "        vertical-align: top;\n",
       "    }\n",
       "\n",
       "    .dataframe thead th {\n",
       "        text-align: right;\n",
       "    }\n",
       "</style>\n",
       "<table border=\"1\" class=\"dataframe\">\n",
       "  <thead>\n",
       "    <tr style=\"text-align: right;\">\n",
       "      <th></th>\n",
       "      <th>CustomerID</th>\n",
       "      <th>Age</th>\n",
       "      <th>Gender</th>\n",
       "      <th>Tenure</th>\n",
       "      <th>Usage Frequency</th>\n",
       "      <th>Support Calls</th>\n",
       "      <th>Payment Delay</th>\n",
       "      <th>Subscription Type</th>\n",
       "      <th>Contract Length</th>\n",
       "      <th>Total Spend</th>\n",
       "      <th>Last Interaction</th>\n",
       "      <th>Churn</th>\n",
       "    </tr>\n",
       "  </thead>\n",
       "  <tbody>\n",
       "    <tr>\n",
       "      <th>0</th>\n",
       "      <td>1.0</td>\n",
       "      <td>22.0</td>\n",
       "      <td>Female</td>\n",
       "      <td>25.0</td>\n",
       "      <td>14.0</td>\n",
       "      <td>4.0</td>\n",
       "      <td>27.0</td>\n",
       "      <td>Basic</td>\n",
       "      <td>Monthly</td>\n",
       "      <td>598.0</td>\n",
       "      <td>9.0</td>\n",
       "      <td>1.0</td>\n",
       "    </tr>\n",
       "    <tr>\n",
       "      <th>1</th>\n",
       "      <td>2.0</td>\n",
       "      <td>41.0</td>\n",
       "      <td>Female</td>\n",
       "      <td>28.0</td>\n",
       "      <td>28.0</td>\n",
       "      <td>7.0</td>\n",
       "      <td>13.0</td>\n",
       "      <td>Standard</td>\n",
       "      <td>Monthly</td>\n",
       "      <td>584.0</td>\n",
       "      <td>20.0</td>\n",
       "      <td>0.0</td>\n",
       "    </tr>\n",
       "    <tr>\n",
       "      <th>2</th>\n",
       "      <td>3.0</td>\n",
       "      <td>47.0</td>\n",
       "      <td>Male</td>\n",
       "      <td>27.0</td>\n",
       "      <td>10.0</td>\n",
       "      <td>2.0</td>\n",
       "      <td>29.0</td>\n",
       "      <td>Premium</td>\n",
       "      <td>Annual</td>\n",
       "      <td>757.0</td>\n",
       "      <td>21.0</td>\n",
       "      <td>0.0</td>\n",
       "    </tr>\n",
       "  </tbody>\n",
       "</table>\n",
       "</div>"
      ],
      "text/plain": [
       "   CustomerID   Age  Gender  Tenure  Usage Frequency  Support Calls  \\\n",
       "0         1.0  22.0  Female    25.0             14.0            4.0   \n",
       "1         2.0  41.0  Female    28.0             28.0            7.0   \n",
       "2         3.0  47.0    Male    27.0             10.0            2.0   \n",
       "\n",
       "   Payment Delay Subscription Type Contract Length  Total Spend  \\\n",
       "0           27.0             Basic         Monthly        598.0   \n",
       "1           13.0          Standard         Monthly        584.0   \n",
       "2           29.0           Premium          Annual        757.0   \n",
       "\n",
       "   Last Interaction  Churn  \n",
       "0               9.0    1.0  \n",
       "1              20.0    0.0  \n",
       "2              21.0    0.0  "
      ]
     },
     "execution_count": 19,
     "metadata": {},
     "output_type": "execute_result"
    }
   ],
   "source": [
    "raw_train.head(3)"
   ]
  },
  {
   "cell_type": "code",
   "execution_count": 33,
   "id": "4281465f-c6e8-4cb0-9b74-4bf13142835b",
   "metadata": {},
   "outputs": [],
   "source": [
    "X,y = transform_data(raw_train)\n",
    "X = X.drop(columns=['CustomerID', 'Churn'])\n"
   ]
  },
  {
   "cell_type": "code",
   "execution_count": 34,
   "id": "7cbfe03c-b211-4a6a-8fab-42cc32a92925",
   "metadata": {},
   "outputs": [
    {
     "data": {
      "application/vnd.jupyter.widget-view+json": {
       "model_id": "5b9f01927cd84d9ca7c035227e0322cd",
       "version_major": 2,
       "version_minor": 0
      },
      "text/plain": [
       "Downloading artifacts:   0%|          | 0/5 [00:00<?, ?it/s]"
      ]
     },
     "metadata": {},
     "output_type": "display_data"
    },
    {
     "name": "stdout",
     "output_type": "stream",
     "text": [
      "mlflow.pyfunc.loaded_model:\n",
      "  artifact_path: ML_models\n",
      "  flavor: mlflow.sklearn\n",
      "  run_id: 50f98fe38f354532a6a1f7a4caf466b6\n",
      "\n"
     ]
    }
   ],
   "source": [
    "all_experiments = [exp.experiment_id for exp in mlflow.search_experiments()]\n",
    "df_mlflow = mlflow.search_runs(experiment_ids=all_experiments,filter_string=\"metrics.F1_score_test <1\")\n",
    "run_id = df_mlflow.loc[df_mlflow['metrics.F1_score_test'].idxmax()]['run_id']\n",
    "\n",
    "#let's call the model from the model registry ( in production stage)\n",
    "import mlflow.pyfunc\n",
    "\n",
    "logged_model = f'runs:/{run_id}/ML_models'\n",
    "\n",
    "# Load model as a PyFuncModel.\n",
    "loaded_model = mlflow.pyfunc.load_model(logged_model)\n",
    "print(loaded_model)"
   ]
  },
  {
   "cell_type": "markdown",
   "id": "6fde5ee6-086b-45f2-8466-7f7134c54518",
   "metadata": {},
   "source": [
    "## Transform the training data before sending it to Arize AI :"
   ]
  },
  {
   "cell_type": "code",
   "execution_count": 76,
   "id": "4bca05c3-be4d-4dfd-b6ca-1f287555f776",
   "metadata": {},
   "outputs": [],
   "source": [
    "selected_cols=[\n",
    " 'CustomerID','Age', 'Gender', 'Tenure', 'Usage Frequency', 'Support Calls', \n",
    "    'Payment Delay', 'Subscription Type', 'Contract Length', 'Total Spend', \n",
    "    'Last Interaction','Churn'\n",
    "]"
   ]
  },
  {
   "cell_type": "code",
   "execution_count": 77,
   "id": "5374acc6-d9ef-48f4-aeae-fd61ed50a836",
   "metadata": {},
   "outputs": [],
   "source": [
    "baseline = raw_train.drop(columns=['CustomerID', 'Churn'], axis=1)\n",
    "baseline.dropna(inplace=True)\n",
    "\n",
    "baseline = raw_train[selected_cols]"
   ]
  },
  {
   "cell_type": "code",
   "execution_count": 78,
   "id": "3a4e18b9-4403-4ab7-8540-1cf5799c40f5",
   "metadata": {},
   "outputs": [],
   "source": [
    "\n",
    "# Liste des colonnes à convertir en entier\n",
    "columns_to_convert = ['Age', 'Tenure', 'Usage Frequency', 'Support Calls','Churn']\n",
    "\n",
    "# Conversion des colonnes en type int\n",
    "baseline[columns_to_convert] = baseline[columns_to_convert].astype(int)\n",
    "# List of numerical columns\n",
    "with open(\"label_encodersFinal.pkl\", \"rb\") as le_file:\n",
    "    label_encoders = pickle.load(le_file)\n",
    "\n",
    "with open(\"scalerFinal.pkl\", \"rb\") as dc_file:\n",
    "    scaler = pickle.load(dc_file)\n",
    "numerical_cols = [\n",
    "    'Age', 'Tenure', 'Usage Frequency', 'Support Calls', \n",
    "    'Payment Delay', 'Total Spend', 'Last Interaction'\n",
    "]\n",
    "\n",
    "# List of categorical columns\n",
    "categorical_cols = [\"Gender\", 'Subscription Type', \"Contract Length\"]\n",
    "\n",
    "# Apply StandardScaler to numerical columns\n",
    "baseline[numerical_cols] = scaler.transform(baseline[numerical_cols])\n",
    "\n",
    "# Encode categorical columns\n",
    "for col in categorical_cols:\n",
    "    if col in baseline.columns:\n",
    "        if col in label_encoders:\n",
    "            le = label_encoders[col]\n",
    "            baseline[col] = le.transform(baseline[col])\n",
    "        else:\n",
    "            raise ValueError(f\"No LabelEncoder found for column: {col}\")\n",
    "    else:\n",
    "        raise ValueError(f\"Missing categorical column: {col}\")\n"
   ]
  },
  {
   "cell_type": "code",
   "execution_count": 79,
   "id": "ad06d775-6ea3-46a3-97d8-964773e16a5d",
   "metadata": {},
   "outputs": [],
   "source": [
    "baseline.rename(columns = {'Churn':'actual_label'}, inplace = True)"
   ]
  },
  {
   "cell_type": "code",
   "execution_count": 80,
   "id": "811c6db4-c691-4b22-b3af-b0442ddf2d50",
   "metadata": {},
   "outputs": [],
   "source": [
    "transform_bin_str = { 0 : 'non_Churn', 1 : 'Churn'}\n",
    "baseline['actual_label'] = baseline['actual_label'].map(transform_bin_str)"
   ]
  },
  {
   "cell_type": "code",
   "execution_count": 81,
   "id": "03f4ba73-71f9-4536-8bd8-ad8f626f6f62",
   "metadata": {},
   "outputs": [],
   "source": [
    "preds = loaded_model.predict(X)"
   ]
  },
  {
   "cell_type": "code",
   "execution_count": 82,
   "id": "4c376d6d-478f-4497-b9c3-3e78160e6df5",
   "metadata": {},
   "outputs": [],
   "source": [
    "baseline['prediction_label'] = preds"
   ]
  },
  {
   "cell_type": "code",
   "execution_count": 83,
   "id": "e2ab3fba-9ca9-4921-b39f-ca007c8c98c8",
   "metadata": {},
   "outputs": [],
   "source": [
    "baseline['prediction_label'] = baseline['prediction_label'].map(transform_bin_str)"
   ]
  },
  {
   "cell_type": "code",
   "execution_count": 84,
   "id": "5c74f55b-5790-40a5-9f16-48d0ecaf7e92",
   "metadata": {},
   "outputs": [],
   "source": [
    "import uuid\n",
    "# Prediction ID is required for all datasets\n",
    "def generate_prediction_ids(X):\n",
    "    return pd.Series((str(uuid.uuid4()) for _ in range(len(X))), index=X.index)"
   ]
  },
  {
   "cell_type": "code",
   "execution_count": 85,
   "id": "a9a28ddc-1c1b-4754-9cf7-49d50467d525",
   "metadata": {},
   "outputs": [],
   "source": [
    "baseline[\"prediction_id\"]=generate_prediction_ids(baseline)"
   ]
  },
  {
   "cell_type": "code",
   "execution_count": 86,
   "id": "6a668e2d-0404-4b2f-834d-fddad8e53b69",
   "metadata": {},
   "outputs": [
    {
     "data": {
      "text/html": [
       "<div>\n",
       "<style scoped>\n",
       "    .dataframe tbody tr th:only-of-type {\n",
       "        vertical-align: middle;\n",
       "    }\n",
       "\n",
       "    .dataframe tbody tr th {\n",
       "        vertical-align: top;\n",
       "    }\n",
       "\n",
       "    .dataframe thead th {\n",
       "        text-align: right;\n",
       "    }\n",
       "</style>\n",
       "<table border=\"1\" class=\"dataframe\">\n",
       "  <thead>\n",
       "    <tr style=\"text-align: right;\">\n",
       "      <th></th>\n",
       "      <th>CustomerID</th>\n",
       "      <th>Age</th>\n",
       "      <th>Gender</th>\n",
       "      <th>Tenure</th>\n",
       "      <th>Usage Frequency</th>\n",
       "      <th>Support Calls</th>\n",
       "      <th>Payment Delay</th>\n",
       "      <th>Subscription Type</th>\n",
       "      <th>Contract Length</th>\n",
       "      <th>Total Spend</th>\n",
       "      <th>Last Interaction</th>\n",
       "      <th>actual_label</th>\n",
       "      <th>prediction_label</th>\n",
       "      <th>prediction_id</th>\n",
       "    </tr>\n",
       "  </thead>\n",
       "  <tbody>\n",
       "    <tr>\n",
       "      <th>0</th>\n",
       "      <td>1.0</td>\n",
       "      <td>-1.397268</td>\n",
       "      <td>0</td>\n",
       "      <td>-0.368409</td>\n",
       "      <td>-0.198951</td>\n",
       "      <td>0.053192</td>\n",
       "      <td>1.597784</td>\n",
       "      <td>0</td>\n",
       "      <td>1</td>\n",
       "      <td>-0.089976</td>\n",
       "      <td>-0.651766</td>\n",
       "      <td>Churn</td>\n",
       "      <td>Churn</td>\n",
       "      <td>c41ea4a9-b68e-4a52-96fc-ed67d2518b10</td>\n",
       "    </tr>\n",
       "    <tr>\n",
       "      <th>1</th>\n",
       "      <td>2.0</td>\n",
       "      <td>0.102271</td>\n",
       "      <td>0</td>\n",
       "      <td>-0.194369</td>\n",
       "      <td>1.425308</td>\n",
       "      <td>1.010558</td>\n",
       "      <td>-0.058790</td>\n",
       "      <td>2</td>\n",
       "      <td>1</td>\n",
       "      <td>-0.147044</td>\n",
       "      <td>0.626074</td>\n",
       "      <td>non_Churn</td>\n",
       "      <td>non_Churn</td>\n",
       "      <td>ff10ae36-04e1-4fba-a840-c599822002fe</td>\n",
       "    </tr>\n",
       "    <tr>\n",
       "      <th>2</th>\n",
       "      <td>3.0</td>\n",
       "      <td>0.575809</td>\n",
       "      <td>1</td>\n",
       "      <td>-0.252383</td>\n",
       "      <td>-0.663026</td>\n",
       "      <td>-0.585052</td>\n",
       "      <td>1.834437</td>\n",
       "      <td>1</td>\n",
       "      <td>0</td>\n",
       "      <td>0.558160</td>\n",
       "      <td>0.742241</td>\n",
       "      <td>non_Churn</td>\n",
       "      <td>Churn</td>\n",
       "      <td>a909b0f7-dfd5-4f35-aad4-165e34aba224</td>\n",
       "    </tr>\n",
       "  </tbody>\n",
       "</table>\n",
       "</div>"
      ],
      "text/plain": [
       "   CustomerID       Age  Gender    Tenure  Usage Frequency  Support Calls  \\\n",
       "0         1.0 -1.397268       0 -0.368409        -0.198951       0.053192   \n",
       "1         2.0  0.102271       0 -0.194369         1.425308       1.010558   \n",
       "2         3.0  0.575809       1 -0.252383        -0.663026      -0.585052   \n",
       "\n",
       "   Payment Delay  Subscription Type  Contract Length  Total Spend  \\\n",
       "0       1.597784                  0                1    -0.089976   \n",
       "1      -0.058790                  2                1    -0.147044   \n",
       "2       1.834437                  1                0     0.558160   \n",
       "\n",
       "   Last Interaction actual_label prediction_label  \\\n",
       "0         -0.651766        Churn            Churn   \n",
       "1          0.626074    non_Churn        non_Churn   \n",
       "2          0.742241    non_Churn            Churn   \n",
       "\n",
       "                          prediction_id  \n",
       "0  c41ea4a9-b68e-4a52-96fc-ed67d2518b10  \n",
       "1  ff10ae36-04e1-4fba-a840-c599822002fe  \n",
       "2  a909b0f7-dfd5-4f35-aad4-165e34aba224  "
      ]
     },
     "execution_count": 86,
     "metadata": {},
     "output_type": "execute_result"
    }
   ],
   "source": [
    "baseline.head(3)"
   ]
  },
  {
   "cell_type": "code",
   "execution_count": 87,
   "id": "50172a96-08a3-4964-9bf9-03872a70de50",
   "metadata": {},
   "outputs": [
    {
     "name": "stdout",
     "output_type": "stream",
     "text": [
      "\u001b[33m  arize.utils.logging | WARNING | The space_key parameter is deprecated and will be removed in a future release. Please use the space_id parameter instead.\u001b[0m\n",
      "✅ Arize setup complete!\n"
     ]
    }
   ],
   "source": [
    "SPACE_KEY = \"5a8f660\"\n",
    "API_KEY = \"34b51d161247d73b41b\"\n",
    "\n",
    "arize_client = Client(space_key=SPACE_KEY, api_key=API_KEY)\n",
    "\n",
    "model_id = (\n",
    "    \"Churn-dector-model\"  # This is the model name that will show up in Arize\n",
    ")\n",
    "model_version = \"v2\"  # Version of model - can be any string\n",
    "\n",
    "if SPACE_KEY == \"SPACE_KEY\" or API_KEY == \"API_KEY\":\n",
    "    raise ValueError(\"❌ NEED TO CHANGE SPACE AND/OR API_KEY\")\n",
    "else:\n",
    "    print(\"✅ Arize setup complete!\")"
   ]
  },
  {
   "cell_type": "markdown",
   "id": "704c4b1c-2557-49ae-82aa-80484c6c5c83",
   "metadata": {},
   "source": [
    "## Send train data to Arize AI :\n",
    "the training data will be the reference data later in production"
   ]
  },
  {
   "cell_type": "code",
   "execution_count": 88,
   "id": "57c37a06-21ac-4751-9c8b-953f4a1c7103",
   "metadata": {},
   "outputs": [],
   "source": [
    "features = feature_column_names=list(baseline.columns.drop(\n",
    "        [\"prediction_id\", \"prediction_label\", \"actual_label\"]))"
   ]
  },
  {
   "cell_type": "code",
   "execution_count": 92,
   "id": "497f4999-04ad-44bd-a5e0-b8f5dd86ce18",
   "metadata": {},
   "outputs": [
    {
     "name": "stdout",
     "output_type": "stream",
     "text": [
      "\u001b[38;21m  arize.utils.logging | INFO | Success! Check out your data at https://app.arize.com/organizations/QWNjb3VudE9yZ2FuaXphdGlvbjoxMjc1OTphcUND/spaces/U3BhY2U6MTMzNzg6RlFldw==/models/modelName/Churn-dector-model?selectedTab=performance\u001b[0m\n",
      "✅ You have successfully logged training set to Arize\n"
     ]
    }
   ],
   "source": [
    "training_schema = Schema(\n",
    "    prediction_id_column_name=\"prediction_id\",\n",
    "    prediction_label_column_name=\"prediction_label\",\n",
    "    actual_label_column_name=\"actual_label\",\n",
    "    feature_column_names=features)\n",
    "\n",
    "# Logging Training DataFrame\n",
    "training_response = arize_client.log(\n",
    "    dataframe=baseline,\n",
    "    model_id=model_id,\n",
    "    model_version=model_version,\n",
    "    model_type=ModelTypes.SCORE_CATEGORICAL,\n",
    "    environment=Environments.TRAINING,\n",
    "    schema=training_schema,\n",
    ")\n",
    "\n",
    "# If successful, the server will return a status_code of 200\n",
    "if training_response.status_code != 200:\n",
    "    print(\n",
    "        f\"logging failed with response code {training_response.status_code}, {training_response.text}\"\n",
    "    )\n",
    "else:\n",
    "    print(f\"✅ You have successfully logged training set to Arize\")"
   ]
  },
  {
   "cell_type": "code",
   "execution_count": null,
   "id": "c260ada0-ac78-4859-9941-0f4ebcc9045a",
   "metadata": {},
   "outputs": [],
   "source": []
  }
 ],
 "metadata": {
  "kernelspec": {
   "display_name": "Python 3 (ipykernel)",
   "language": "python",
   "name": "python3"
  },
  "language_info": {
   "codemirror_mode": {
    "name": "ipython",
    "version": 3
   },
   "file_extension": ".py",
   "mimetype": "text/x-python",
   "name": "python",
   "nbconvert_exporter": "python",
   "pygments_lexer": "ipython3",
   "version": "3.12.2"
  }
 },
 "nbformat": 4,
 "nbformat_minor": 5
}
