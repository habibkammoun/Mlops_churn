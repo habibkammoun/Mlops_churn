{
 "cells": [
  {
   "cell_type": "markdown",
   "id": "7c8868a2-c57c-41bc-bb16-e6cc76f6d840",
   "metadata": {},
   "source": [
    "# Importation des bibliotheques "
   ]
  },
  {
   "cell_type": "code",
   "execution_count": null,
   "id": "38e52637",
   "metadata": {},
   "outputs": [
    {
     "name": "stdout",
     "output_type": "stream",
     "text": [
      "Collecting seaborn\n",
      "  Downloading seaborn-0.13.2-py3-none-any.whl.metadata (5.4 kB)\n",
      "Requirement already satisfied: numpy!=1.24.0,>=1.20 in /home/rami/miniconda3/lib/python3.12/site-packages (from seaborn) (2.1.3)\n",
      "Requirement already satisfied: pandas>=1.2 in /home/rami/miniconda3/lib/python3.12/site-packages (from seaborn) (2.2.3)\n"
     ]
    }
   ],
   "source": [
    "!pip install seaborn\n",
    "import pandas as pd\n",
    "import numpy as np\n",
    "from sklearn.preprocessing import LabelEncoder, StandardScaler\n",
    "import seaborn as sns\n",
    "import matplotlib.pyplot as plt\n",
    "from sklearn.model_selection import train_test_split\n"
   ]
  },
  {
   "cell_type": "code",
   "execution_count": null,
   "id": "bf9ff70c",
   "metadata": {},
   "outputs": [],
   "source": [
    "df = pd.read_csv(\"../data/customer_churn_dataset.csv\")"
   ]
  },
  {
   "cell_type": "code",
   "execution_count": null,
   "id": "972575f5",
   "metadata": {},
   "outputs": [],
   "source": [
    "df.head()"
   ]
  },
  {
   "cell_type": "code",
   "execution_count": null,
   "id": "8b48682b-f263-47dd-b2a2-068015dd2de4",
   "metadata": {},
   "outputs": [],
   "source": [
    "df.info()"
   ]
  },
  {
   "cell_type": "markdown",
   "id": "31c7d87c-97db-42b4-8952-03147f8a6726",
   "metadata": {},
   "source": [
    "## 1.Vérification des valeurs nulles :"
   ]
  },
  {
   "cell_type": "code",
   "execution_count": null,
   "id": "7ebfa964-011e-4fca-932e-966691f96ca5",
   "metadata": {},
   "outputs": [],
   "source": [
    "print(df.isnull().sum())"
   ]
  },
  {
   "cell_type": "code",
   "execution_count": null,
   "id": "f72949b4-15d8-470b-b2cc-08a101b0ba64",
   "metadata": {},
   "outputs": [],
   "source": [
    "df.dropna(inplace=True)\n"
   ]
  },
  {
   "cell_type": "markdown",
   "id": "ae3b95a7-f60b-4faa-93e6-ed39d07556ee",
   "metadata": {},
   "source": [
    "## 2.Identification des outliers avec IQR"
   ]
  },
  {
   "cell_type": "code",
   "execution_count": null,
   "id": "0beb6c5a-27c1-4e2b-b1c6-96aaf9839a7c",
   "metadata": {},
   "outputs": [],
   "source": [
    "print(\"\\nDétection des outliers :\")\n",
    "for col in df.select_dtypes(include=['float64', 'int64']):\n",
    "    Q1 = df[col].quantile(0.25)\n",
    "    Q3 = df[col].quantile(0.75)\n",
    "    IQR = Q3 - Q1\n",
    "    lower_bound = Q1 - 1.5 * IQR\n",
    "    upper_bound = Q3 + 1.5 * IQR\n",
    "    outliers = df[(df[col] < lower_bound) | (df[col] > upper_bound)]\n",
    "    print(f\"Colonne {col} : {len(outliers)} outliers détectés.\")"
   ]
  },
  {
   "cell_type": "markdown",
   "id": "d4cc3761-5a1f-47d3-9500-d118f42726e8",
   "metadata": {},
   "source": [
    "## 3.Check if there is any duplicated values:"
   ]
  },
  {
   "cell_type": "code",
   "execution_count": null,
   "id": "543021ec-2456-4558-b6cf-f3d7a59bdef1",
   "metadata": {},
   "outputs": [],
   "source": [
    "df.duplicated().sum()"
   ]
  },
  {
   "cell_type": "markdown",
   "id": "ee806fe3-e11e-4c98-938e-c3471cf9bd9a",
   "metadata": {},
   "source": [
    "## 4.Conversion des colonnes en type int "
   ]
  },
  {
   "cell_type": "code",
   "execution_count": null,
   "id": "190792bb-e264-4b09-936b-47652b838148",
   "metadata": {},
   "outputs": [],
   "source": [
    "# Liste des colonnes à convertir en entier\n",
    "columns_to_convert = ['Age', 'Tenure', 'Usage Frequency', 'Support Calls','Churn']\n",
    "\n",
    "# Conversion des colonnes en type int\n",
    "df[columns_to_convert] = df[columns_to_convert].astype(int)\n",
    "\n",
    "# Vérification des types après conversion\n",
    "print(df.dtypes)\n"
   ]
  },
  {
   "cell_type": "markdown",
   "id": "12aaeb9c-b46c-4a5f-b855-74d6c21e3478",
   "metadata": {},
   "source": [
    "## 5.Encodage des variables catégoriques"
   ]
  },
  {
   "cell_type": "code",
   "execution_count": null,
   "id": "5486f731-e50e-4b74-85e9-d0b232445a16",
   "metadata": {},
   "outputs": [],
   "source": [
    "df.select_dtypes(include='object')\n"
   ]
  },
  {
   "cell_type": "code",
   "execution_count": null,
   "id": "c3e65da7-fb20-4e31-985a-4455b61c921d",
   "metadata": {},
   "outputs": [],
   "source": [
    "print(\"\\nEncodage des variables catégoriques :\")\n",
    "categorical_columns = ['Gender', 'Subscription Type', 'Contract Length']\n",
    "label_encoders = {}\n",
    "\n",
    "for col in categorical_columns:\n",
    "    le = LabelEncoder()\n",
    "    df[col] = le.fit_transform(df[col])\n",
    "    label_encoders[col] = le\n",
    "    print(f\"Colonne {col} encodée.\")"
   ]
  },
  {
   "cell_type": "markdown",
   "id": "f75fbf0c-d2e5-450d-9e04-fc41e0487bd7",
   "metadata": {},
   "source": [
    "## 6.Standardisation des données numériques"
   ]
  },
  {
   "cell_type": "code",
   "execution_count": null,
   "id": "a4890f42-edf2-4d60-ab24-4371e140193e",
   "metadata": {},
   "outputs": [],
   "source": [
    "numerical_columns = ['Age', 'Tenure', 'Usage Frequency', 'Support Calls', \n",
    "                     'Payment Delay', 'Total Spend', 'Last Interaction']\n",
    "scaler = StandardScaler()\n",
    "df[numerical_columns] = scaler.fit_transform(df[numerical_columns])\n",
    "\n",
    "# Résumé final\n",
    "print(\"\\nPrétraitement terminé.\")\n",
    "df.head()"
   ]
  },
  {
   "cell_type": "markdown",
   "id": "d4752e39-5bd0-45dc-9458-dee3ac4c8fea",
   "metadata": {},
   "source": [
    "## 7.Définir les caractéristiques (X) et la cible (y)"
   ]
  },
  {
   "cell_type": "code",
   "execution_count": null,
   "id": "f5bd78ab-2d5f-4bbc-b69c-f9d964e29f87",
   "metadata": {},
   "outputs": [],
   "source": [
    "X = df.drop(columns=['CustomerID', 'Churn'])\n",
    "y = df['Churn']"
   ]
  },
  {
   "cell_type": "markdown",
   "id": "287885b2-f9b9-4708-88ea-36862ef6600a",
   "metadata": {},
   "source": [
    "## 8.Diviser en ensembles d'entraînement et de test"
   ]
  },
  {
   "cell_type": "code",
   "execution_count": null,
   "id": "3afbda14-8973-4705-8f32-b60f977a7d8d",
   "metadata": {},
   "outputs": [],
   "source": [
    "X_train, X_test, y_train, y_test = train_test_split(X, y, test_size=0.2, random_state=42)\n"
   ]
  },
  {
   "cell_type": "markdown",
   "id": "4001eedf-dc1f-487e-8f40-45b2489468c9",
   "metadata": {},
   "source": [
    "##  9.Sauvegarder les ensembles d'entraînement et de test"
   ]
  },
  {
   "cell_type": "code",
   "execution_count": null,
   "id": "ffd3a3c7-5b6c-40d7-a315-968c701a3e3d",
   "metadata": {},
   "outputs": [],
   "source": [
    "train_data = pd.concat([X_train, y_train], axis=1)\n",
    "test_data = pd.concat([X_test, y_test], axis=1)\n",
    "\n",
    "train_path = '../data/customer_churn_train.csv'\n",
    "test_path = '../data/customer_churn_test.csv'\n",
    "\n",
    "train_data.to_csv(train_path, index=False)\n",
    "test_data.to_csv(test_path, index=False)\n",
    "\n",
    "print(f\"Les données d'entraînement ont été sauvegardées dans : {train_path}\")\n",
    "print(f\"Les données de test ont été sauvegardées dans : {test_path}\")"
   ]
  },
  {
   "cell_type": "code",
   "execution_count": null,
   "id": "7ccbdd29-019c-4b2d-bab7-a43d5d9a0ea8",
   "metadata": {},
   "outputs": [],
   "source": []
  }
 ],
 "metadata": {
  "kernelspec": {
   "display_name": "Python 3 (ipykernel)",
   "language": "python",
   "name": "python3"
  },
  "language_info": {
   "codemirror_mode": {
    "name": "ipython",
    "version": 3
   },
   "file_extension": ".py",
   "mimetype": "text/x-python",
   "name": "python",
   "nbconvert_exporter": "python",
   "pygments_lexer": "ipython3",
   "version": "3.12.2"
  }
 },
 "nbformat": 4,
 "nbformat_minor": 5
}
