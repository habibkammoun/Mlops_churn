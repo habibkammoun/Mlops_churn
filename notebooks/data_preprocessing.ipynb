{
 "cells": [
  {
   "cell_type": "markdown",
   "id": "7c8868a2-c57c-41bc-bb16-e6cc76f6d840",
   "metadata": {},
   "source": [
    "# Importation des bibliotheques "
   ]
  },
  {
   "cell_type": "code",
   "execution_count": 1,
   "id": "38e52637",
   "metadata": {},
   "outputs": [],
   "source": [
    "#!pip install seaborn\n",
    "import pandas as pd\n",
    "import numpy as np\n",
    "from sklearn.preprocessing import LabelEncoder, StandardScaler\n",
    "import seaborn as sns\n",
    "import matplotlib.pyplot as plt\n",
    "from sklearn.model_selection import train_test_split\n",
    "import pickle\n"
   ]
  },
  {
   "cell_type": "code",
   "execution_count": 2,
   "id": "bf9ff70c",
   "metadata": {},
   "outputs": [],
   "source": [
    "df = pd.read_csv(\"../data/customer_churn_dataset.csv\")"
   ]
  },
  {
   "cell_type": "code",
   "execution_count": 3,
   "id": "972575f5",
   "metadata": {},
   "outputs": [
    {
     "data": {
      "text/html": [
       "<div>\n",
       "<style scoped>\n",
       "    .dataframe tbody tr th:only-of-type {\n",
       "        vertical-align: middle;\n",
       "    }\n",
       "\n",
       "    .dataframe tbody tr th {\n",
       "        vertical-align: top;\n",
       "    }\n",
       "\n",
       "    .dataframe thead th {\n",
       "        text-align: right;\n",
       "    }\n",
       "</style>\n",
       "<table border=\"1\" class=\"dataframe\">\n",
       "  <thead>\n",
       "    <tr style=\"text-align: right;\">\n",
       "      <th></th>\n",
       "      <th>CustomerID</th>\n",
       "      <th>Age</th>\n",
       "      <th>Gender</th>\n",
       "      <th>Tenure</th>\n",
       "      <th>Usage Frequency</th>\n",
       "      <th>Support Calls</th>\n",
       "      <th>Payment Delay</th>\n",
       "      <th>Subscription Type</th>\n",
       "      <th>Contract Length</th>\n",
       "      <th>Total Spend</th>\n",
       "      <th>Last Interaction</th>\n",
       "      <th>Churn</th>\n",
       "    </tr>\n",
       "  </thead>\n",
       "  <tbody>\n",
       "    <tr>\n",
       "      <th>0</th>\n",
       "      <td>1.0</td>\n",
       "      <td>22.0</td>\n",
       "      <td>Female</td>\n",
       "      <td>25.0</td>\n",
       "      <td>14.0</td>\n",
       "      <td>4.0</td>\n",
       "      <td>27.0</td>\n",
       "      <td>Basic</td>\n",
       "      <td>Monthly</td>\n",
       "      <td>598.0</td>\n",
       "      <td>9.0</td>\n",
       "      <td>1.0</td>\n",
       "    </tr>\n",
       "    <tr>\n",
       "      <th>1</th>\n",
       "      <td>2.0</td>\n",
       "      <td>41.0</td>\n",
       "      <td>Female</td>\n",
       "      <td>28.0</td>\n",
       "      <td>28.0</td>\n",
       "      <td>7.0</td>\n",
       "      <td>13.0</td>\n",
       "      <td>Standard</td>\n",
       "      <td>Monthly</td>\n",
       "      <td>584.0</td>\n",
       "      <td>20.0</td>\n",
       "      <td>0.0</td>\n",
       "    </tr>\n",
       "    <tr>\n",
       "      <th>2</th>\n",
       "      <td>3.0</td>\n",
       "      <td>47.0</td>\n",
       "      <td>Male</td>\n",
       "      <td>27.0</td>\n",
       "      <td>10.0</td>\n",
       "      <td>2.0</td>\n",
       "      <td>29.0</td>\n",
       "      <td>Premium</td>\n",
       "      <td>Annual</td>\n",
       "      <td>757.0</td>\n",
       "      <td>21.0</td>\n",
       "      <td>0.0</td>\n",
       "    </tr>\n",
       "    <tr>\n",
       "      <th>3</th>\n",
       "      <td>4.0</td>\n",
       "      <td>35.0</td>\n",
       "      <td>Male</td>\n",
       "      <td>9.0</td>\n",
       "      <td>12.0</td>\n",
       "      <td>5.0</td>\n",
       "      <td>17.0</td>\n",
       "      <td>Premium</td>\n",
       "      <td>Quarterly</td>\n",
       "      <td>232.0</td>\n",
       "      <td>18.0</td>\n",
       "      <td>0.0</td>\n",
       "    </tr>\n",
       "    <tr>\n",
       "      <th>4</th>\n",
       "      <td>5.0</td>\n",
       "      <td>53.0</td>\n",
       "      <td>Female</td>\n",
       "      <td>58.0</td>\n",
       "      <td>24.0</td>\n",
       "      <td>9.0</td>\n",
       "      <td>2.0</td>\n",
       "      <td>Standard</td>\n",
       "      <td>Annual</td>\n",
       "      <td>533.0</td>\n",
       "      <td>18.0</td>\n",
       "      <td>0.0</td>\n",
       "    </tr>\n",
       "  </tbody>\n",
       "</table>\n",
       "</div>"
      ],
      "text/plain": [
       "   CustomerID   Age  Gender  Tenure  Usage Frequency  Support Calls  \\\n",
       "0         1.0  22.0  Female    25.0             14.0            4.0   \n",
       "1         2.0  41.0  Female    28.0             28.0            7.0   \n",
       "2         3.0  47.0    Male    27.0             10.0            2.0   \n",
       "3         4.0  35.0    Male     9.0             12.0            5.0   \n",
       "4         5.0  53.0  Female    58.0             24.0            9.0   \n",
       "\n",
       "   Payment Delay Subscription Type Contract Length  Total Spend  \\\n",
       "0           27.0             Basic         Monthly        598.0   \n",
       "1           13.0          Standard         Monthly        584.0   \n",
       "2           29.0           Premium          Annual        757.0   \n",
       "3           17.0           Premium       Quarterly        232.0   \n",
       "4            2.0          Standard          Annual        533.0   \n",
       "\n",
       "   Last Interaction  Churn  \n",
       "0               9.0    1.0  \n",
       "1              20.0    0.0  \n",
       "2              21.0    0.0  \n",
       "3              18.0    0.0  \n",
       "4              18.0    0.0  "
      ]
     },
     "execution_count": 3,
     "metadata": {},
     "output_type": "execute_result"
    }
   ],
   "source": [
    "df.head()"
   ]
  },
  {
   "cell_type": "code",
   "execution_count": 4,
   "id": "8b48682b-f263-47dd-b2a2-068015dd2de4",
   "metadata": {},
   "outputs": [
    {
     "name": "stdout",
     "output_type": "stream",
     "text": [
      "<class 'pandas.core.frame.DataFrame'>\n",
      "RangeIndex: 505207 entries, 0 to 505206\n",
      "Data columns (total 12 columns):\n",
      " #   Column             Non-Null Count   Dtype  \n",
      "---  ------             --------------   -----  \n",
      " 0   CustomerID         505206 non-null  float64\n",
      " 1   Age                505206 non-null  float64\n",
      " 2   Gender             505206 non-null  object \n",
      " 3   Tenure             505206 non-null  float64\n",
      " 4   Usage Frequency    505206 non-null  float64\n",
      " 5   Support Calls      505206 non-null  float64\n",
      " 6   Payment Delay      505206 non-null  float64\n",
      " 7   Subscription Type  505206 non-null  object \n",
      " 8   Contract Length    505206 non-null  object \n",
      " 9   Total Spend        505206 non-null  float64\n",
      " 10  Last Interaction   505206 non-null  float64\n",
      " 11  Churn              505206 non-null  float64\n",
      "dtypes: float64(9), object(3)\n",
      "memory usage: 46.3+ MB\n"
     ]
    }
   ],
   "source": [
    "df.info()"
   ]
  },
  {
   "cell_type": "markdown",
   "id": "31c7d87c-97db-42b4-8952-03147f8a6726",
   "metadata": {},
   "source": [
    "## 1.Vérification des valeurs nulles :"
   ]
  },
  {
   "cell_type": "code",
   "execution_count": 5,
   "id": "7ebfa964-011e-4fca-932e-966691f96ca5",
   "metadata": {},
   "outputs": [
    {
     "name": "stdout",
     "output_type": "stream",
     "text": [
      "CustomerID           1\n",
      "Age                  1\n",
      "Gender               1\n",
      "Tenure               1\n",
      "Usage Frequency      1\n",
      "Support Calls        1\n",
      "Payment Delay        1\n",
      "Subscription Type    1\n",
      "Contract Length      1\n",
      "Total Spend          1\n",
      "Last Interaction     1\n",
      "Churn                1\n",
      "dtype: int64\n"
     ]
    }
   ],
   "source": [
    "print(df.isnull().sum())"
   ]
  },
  {
   "cell_type": "code",
   "execution_count": 6,
   "id": "f72949b4-15d8-470b-b2cc-08a101b0ba64",
   "metadata": {},
   "outputs": [],
   "source": [
    "df.dropna(inplace=True)\n"
   ]
  },
  {
   "cell_type": "markdown",
   "id": "ae3b95a7-f60b-4faa-93e6-ed39d07556ee",
   "metadata": {},
   "source": [
    "## 2.Identification des outliers avec IQR"
   ]
  },
  {
   "cell_type": "code",
   "execution_count": 7,
   "id": "0beb6c5a-27c1-4e2b-b1c6-96aaf9839a7c",
   "metadata": {},
   "outputs": [
    {
     "name": "stdout",
     "output_type": "stream",
     "text": [
      "\n",
      "Détection des outliers :\n",
      "Colonne CustomerID : 0 outliers détectés.\n",
      "Colonne Age : 0 outliers détectés.\n",
      "Colonne Tenure : 0 outliers détectés.\n",
      "Colonne Usage Frequency : 0 outliers détectés.\n",
      "Colonne Support Calls : 0 outliers détectés.\n",
      "Colonne Payment Delay : 0 outliers détectés.\n",
      "Colonne Total Spend : 0 outliers détectés.\n",
      "Colonne Last Interaction : 0 outliers détectés.\n",
      "Colonne Churn : 0 outliers détectés.\n"
     ]
    }
   ],
   "source": [
    "print(\"\\nDétection des outliers :\")\n",
    "for col in df.select_dtypes(include=['float64', 'int64']):\n",
    "    Q1 = df[col].quantile(0.25)\n",
    "    Q3 = df[col].quantile(0.75)\n",
    "    IQR = Q3 - Q1\n",
    "    lower_bound = Q1 - 1.5 * IQR\n",
    "    upper_bound = Q3 + 1.5 * IQR\n",
    "    outliers = df[(df[col] < lower_bound) | (df[col] > upper_bound)]\n",
    "    print(f\"Colonne {col} : {len(outliers)} outliers détectés.\")"
   ]
  },
  {
   "cell_type": "markdown",
   "id": "d4cc3761-5a1f-47d3-9500-d118f42726e8",
   "metadata": {},
   "source": [
    "## 3.Check if there is any duplicated values:"
   ]
  },
  {
   "cell_type": "code",
   "execution_count": 8,
   "id": "543021ec-2456-4558-b6cf-f3d7a59bdef1",
   "metadata": {},
   "outputs": [
    {
     "data": {
      "text/plain": [
       "0"
      ]
     },
     "execution_count": 8,
     "metadata": {},
     "output_type": "execute_result"
    }
   ],
   "source": [
    "df.duplicated().sum()"
   ]
  },
  {
   "cell_type": "markdown",
   "id": "ee806fe3-e11e-4c98-938e-c3471cf9bd9a",
   "metadata": {},
   "source": [
    "## 4.Conversion des colonnes en type int "
   ]
  },
  {
   "cell_type": "code",
   "execution_count": 9,
   "id": "190792bb-e264-4b09-936b-47652b838148",
   "metadata": {},
   "outputs": [
    {
     "name": "stdout",
     "output_type": "stream",
     "text": [
      "CustomerID           float64\n",
      "Age                    int64\n",
      "Gender                object\n",
      "Tenure                 int64\n",
      "Usage Frequency        int64\n",
      "Support Calls          int64\n",
      "Payment Delay        float64\n",
      "Subscription Type     object\n",
      "Contract Length       object\n",
      "Total Spend          float64\n",
      "Last Interaction     float64\n",
      "Churn                  int64\n",
      "dtype: object\n"
     ]
    }
   ],
   "source": [
    "# Liste des colonnes à convertir en entier\n",
    "columns_to_convert = ['Age', 'Tenure', 'Usage Frequency', 'Support Calls','Churn']\n",
    "\n",
    "# Conversion des colonnes en type int\n",
    "df[columns_to_convert] = df[columns_to_convert].astype(int)\n",
    "\n",
    "# Vérification des types après conversion\n",
    "print(df.dtypes)\n"
   ]
  },
  {
   "cell_type": "markdown",
   "id": "12aaeb9c-b46c-4a5f-b855-74d6c21e3478",
   "metadata": {},
   "source": [
    "## 5.Encodage des variables catégoriques"
   ]
  },
  {
   "cell_type": "code",
   "execution_count": 10,
   "id": "5486f731-e50e-4b74-85e9-d0b232445a16",
   "metadata": {},
   "outputs": [
    {
     "data": {
      "text/html": [
       "<div>\n",
       "<style scoped>\n",
       "    .dataframe tbody tr th:only-of-type {\n",
       "        vertical-align: middle;\n",
       "    }\n",
       "\n",
       "    .dataframe tbody tr th {\n",
       "        vertical-align: top;\n",
       "    }\n",
       "\n",
       "    .dataframe thead th {\n",
       "        text-align: right;\n",
       "    }\n",
       "</style>\n",
       "<table border=\"1\" class=\"dataframe\">\n",
       "  <thead>\n",
       "    <tr style=\"text-align: right;\">\n",
       "      <th></th>\n",
       "      <th>Gender</th>\n",
       "      <th>Subscription Type</th>\n",
       "      <th>Contract Length</th>\n",
       "    </tr>\n",
       "  </thead>\n",
       "  <tbody>\n",
       "    <tr>\n",
       "      <th>0</th>\n",
       "      <td>Female</td>\n",
       "      <td>Basic</td>\n",
       "      <td>Monthly</td>\n",
       "    </tr>\n",
       "    <tr>\n",
       "      <th>1</th>\n",
       "      <td>Female</td>\n",
       "      <td>Standard</td>\n",
       "      <td>Monthly</td>\n",
       "    </tr>\n",
       "    <tr>\n",
       "      <th>2</th>\n",
       "      <td>Male</td>\n",
       "      <td>Premium</td>\n",
       "      <td>Annual</td>\n",
       "    </tr>\n",
       "    <tr>\n",
       "      <th>3</th>\n",
       "      <td>Male</td>\n",
       "      <td>Premium</td>\n",
       "      <td>Quarterly</td>\n",
       "    </tr>\n",
       "    <tr>\n",
       "      <th>4</th>\n",
       "      <td>Female</td>\n",
       "      <td>Standard</td>\n",
       "      <td>Annual</td>\n",
       "    </tr>\n",
       "    <tr>\n",
       "      <th>...</th>\n",
       "      <td>...</td>\n",
       "      <td>...</td>\n",
       "      <td>...</td>\n",
       "    </tr>\n",
       "    <tr>\n",
       "      <th>505202</th>\n",
       "      <td>Male</td>\n",
       "      <td>Premium</td>\n",
       "      <td>Annual</td>\n",
       "    </tr>\n",
       "    <tr>\n",
       "      <th>505203</th>\n",
       "      <td>Female</td>\n",
       "      <td>Premium</td>\n",
       "      <td>Annual</td>\n",
       "    </tr>\n",
       "    <tr>\n",
       "      <th>505204</th>\n",
       "      <td>Male</td>\n",
       "      <td>Standard</td>\n",
       "      <td>Quarterly</td>\n",
       "    </tr>\n",
       "    <tr>\n",
       "      <th>505205</th>\n",
       "      <td>Male</td>\n",
       "      <td>Standard</td>\n",
       "      <td>Quarterly</td>\n",
       "    </tr>\n",
       "    <tr>\n",
       "      <th>505206</th>\n",
       "      <td>Male</td>\n",
       "      <td>Premium</td>\n",
       "      <td>Quarterly</td>\n",
       "    </tr>\n",
       "  </tbody>\n",
       "</table>\n",
       "<p>505206 rows × 3 columns</p>\n",
       "</div>"
      ],
      "text/plain": [
       "        Gender Subscription Type Contract Length\n",
       "0       Female             Basic         Monthly\n",
       "1       Female          Standard         Monthly\n",
       "2         Male           Premium          Annual\n",
       "3         Male           Premium       Quarterly\n",
       "4       Female          Standard          Annual\n",
       "...        ...               ...             ...\n",
       "505202    Male           Premium          Annual\n",
       "505203  Female           Premium          Annual\n",
       "505204    Male          Standard       Quarterly\n",
       "505205    Male          Standard       Quarterly\n",
       "505206    Male           Premium       Quarterly\n",
       "\n",
       "[505206 rows x 3 columns]"
      ]
     },
     "execution_count": 10,
     "metadata": {},
     "output_type": "execute_result"
    }
   ],
   "source": [
    "df.select_dtypes(include='object')\n"
   ]
  },
  {
   "cell_type": "code",
   "execution_count": 11,
   "id": "c3e65da7-fb20-4e31-985a-4455b61c921d",
   "metadata": {},
   "outputs": [
    {
     "name": "stdout",
     "output_type": "stream",
     "text": [
      "\n",
      "Encodage des variables catégoriques :\n",
      "Colonne Gender encodée.\n",
      "Colonne Subscription Type encodée.\n",
      "Colonne Contract Length encodée.\n"
     ]
    }
   ],
   "source": [
    "print(\"\\nEncodage des variables catégoriques :\")\n",
    "categorical_columns = ['Gender', 'Subscription Type', 'Contract Length']\n",
    "label_encoders = {}\n",
    "\n",
    "for col in categorical_columns:\n",
    "    le = LabelEncoder()\n",
    "    df[col] = le.fit_transform(df[col])\n",
    "    label_encoders[col] = le\n",
    "    print(f\"Colonne {col} encodée.\")"
   ]
  },
  {
   "cell_type": "markdown",
   "id": "c106580d-fccf-4c86-91bd-eda8e8552328",
   "metadata": {},
   "source": [
    "### Sauvegarde des encoders dans un fichier .ppkl"
   ]
  },
  {
   "cell_type": "code",
   "execution_count": 12,
   "id": "31db3b96-e495-425d-a328-a94444a2e409",
   "metadata": {},
   "outputs": [
    {
     "name": "stdout",
     "output_type": "stream",
     "text": [
      "\n",
      "Encoders sauvegardés dans 'label_encoders.ppkl'.\n"
     ]
    }
   ],
   "source": [
    "# Sauvegarde des encoders dans un fichier .ppkl\n",
    "with open(\"label_encoders.ppkl\", \"wb\") as file:\n",
    "    pickle.dump(label_encoders, file)\n",
    "\n",
    "print(\"\\nEncoders sauvegardés dans 'label_encoders.ppkl'.\")"
   ]
  },
  {
   "cell_type": "markdown",
   "id": "f75fbf0c-d2e5-450d-9e04-fc41e0487bd7",
   "metadata": {},
   "source": [
    "## 6.Standardisation des données numériques"
   ]
  },
  {
   "cell_type": "code",
   "execution_count": 13,
   "id": "a4890f42-edf2-4d60-ab24-4371e140193e",
   "metadata": {},
   "outputs": [
    {
     "name": "stdout",
     "output_type": "stream",
     "text": [
      "\n",
      "Prétraitement terminé.\n"
     ]
    },
    {
     "data": {
      "text/html": [
       "<div>\n",
       "<style scoped>\n",
       "    .dataframe tbody tr th:only-of-type {\n",
       "        vertical-align: middle;\n",
       "    }\n",
       "\n",
       "    .dataframe tbody tr th {\n",
       "        vertical-align: top;\n",
       "    }\n",
       "\n",
       "    .dataframe thead th {\n",
       "        text-align: right;\n",
       "    }\n",
       "</style>\n",
       "<table border=\"1\" class=\"dataframe\">\n",
       "  <thead>\n",
       "    <tr style=\"text-align: right;\">\n",
       "      <th></th>\n",
       "      <th>CustomerID</th>\n",
       "      <th>Age</th>\n",
       "      <th>Gender</th>\n",
       "      <th>Tenure</th>\n",
       "      <th>Usage Frequency</th>\n",
       "      <th>Support Calls</th>\n",
       "      <th>Payment Delay</th>\n",
       "      <th>Subscription Type</th>\n",
       "      <th>Contract Length</th>\n",
       "      <th>Total Spend</th>\n",
       "      <th>Last Interaction</th>\n",
       "      <th>Churn</th>\n",
       "    </tr>\n",
       "  </thead>\n",
       "  <tbody>\n",
       "    <tr>\n",
       "      <th>0</th>\n",
       "      <td>1.0</td>\n",
       "      <td>-1.397268</td>\n",
       "      <td>0</td>\n",
       "      <td>-0.368409</td>\n",
       "      <td>-0.198951</td>\n",
       "      <td>0.053192</td>\n",
       "      <td>1.597784</td>\n",
       "      <td>0</td>\n",
       "      <td>1</td>\n",
       "      <td>-0.089976</td>\n",
       "      <td>-0.651766</td>\n",
       "      <td>1</td>\n",
       "    </tr>\n",
       "    <tr>\n",
       "      <th>1</th>\n",
       "      <td>2.0</td>\n",
       "      <td>0.102271</td>\n",
       "      <td>0</td>\n",
       "      <td>-0.194369</td>\n",
       "      <td>1.425308</td>\n",
       "      <td>1.010558</td>\n",
       "      <td>-0.058790</td>\n",
       "      <td>2</td>\n",
       "      <td>1</td>\n",
       "      <td>-0.147044</td>\n",
       "      <td>0.626074</td>\n",
       "      <td>0</td>\n",
       "    </tr>\n",
       "    <tr>\n",
       "      <th>2</th>\n",
       "      <td>3.0</td>\n",
       "      <td>0.575809</td>\n",
       "      <td>1</td>\n",
       "      <td>-0.252383</td>\n",
       "      <td>-0.663026</td>\n",
       "      <td>-0.585052</td>\n",
       "      <td>1.834437</td>\n",
       "      <td>1</td>\n",
       "      <td>0</td>\n",
       "      <td>0.558160</td>\n",
       "      <td>0.742241</td>\n",
       "      <td>0</td>\n",
       "    </tr>\n",
       "    <tr>\n",
       "      <th>3</th>\n",
       "      <td>4.0</td>\n",
       "      <td>-0.371268</td>\n",
       "      <td>1</td>\n",
       "      <td>-1.296620</td>\n",
       "      <td>-0.430988</td>\n",
       "      <td>0.372314</td>\n",
       "      <td>0.414517</td>\n",
       "      <td>1</td>\n",
       "      <td>2</td>\n",
       "      <td>-1.581911</td>\n",
       "      <td>0.393740</td>\n",
       "      <td>0</td>\n",
       "    </tr>\n",
       "    <tr>\n",
       "      <th>4</th>\n",
       "      <td>5.0</td>\n",
       "      <td>1.049348</td>\n",
       "      <td>0</td>\n",
       "      <td>1.546026</td>\n",
       "      <td>0.961234</td>\n",
       "      <td>1.648801</td>\n",
       "      <td>-1.360383</td>\n",
       "      <td>2</td>\n",
       "      <td>0</td>\n",
       "      <td>-0.354937</td>\n",
       "      <td>0.393740</td>\n",
       "      <td>0</td>\n",
       "    </tr>\n",
       "  </tbody>\n",
       "</table>\n",
       "</div>"
      ],
      "text/plain": [
       "   CustomerID       Age  Gender    Tenure  Usage Frequency  Support Calls  \\\n",
       "0         1.0 -1.397268       0 -0.368409        -0.198951       0.053192   \n",
       "1         2.0  0.102271       0 -0.194369         1.425308       1.010558   \n",
       "2         3.0  0.575809       1 -0.252383        -0.663026      -0.585052   \n",
       "3         4.0 -0.371268       1 -1.296620        -0.430988       0.372314   \n",
       "4         5.0  1.049348       0  1.546026         0.961234       1.648801   \n",
       "\n",
       "   Payment Delay  Subscription Type  Contract Length  Total Spend  \\\n",
       "0       1.597784                  0                1    -0.089976   \n",
       "1      -0.058790                  2                1    -0.147044   \n",
       "2       1.834437                  1                0     0.558160   \n",
       "3       0.414517                  1                2    -1.581911   \n",
       "4      -1.360383                  2                0    -0.354937   \n",
       "\n",
       "   Last Interaction  Churn  \n",
       "0         -0.651766      1  \n",
       "1          0.626074      0  \n",
       "2          0.742241      0  \n",
       "3          0.393740      0  \n",
       "4          0.393740      0  "
      ]
     },
     "execution_count": 13,
     "metadata": {},
     "output_type": "execute_result"
    }
   ],
   "source": [
    "numerical_columns = ['Age', 'Tenure', 'Usage Frequency', 'Support Calls', \n",
    "                     'Payment Delay', 'Total Spend', 'Last Interaction']\n",
    "scaler = StandardScaler()\n",
    "df[numerical_columns] = scaler.fit_transform(df[numerical_columns])\n",
    "\n",
    "# Résumé final\n",
    "print(\"\\nPrétraitement terminé.\")\n",
    "df.head()"
   ]
  },
  {
   "cell_type": "code",
   "execution_count": 14,
   "id": "b1d91c15-c3c3-458e-875c-14f32a1f4cb6",
   "metadata": {},
   "outputs": [],
   "source": [
    "# Sauvegarde du scaler dans un fichier .ppkl\n",
    "with open(\"scaler.ppkl\", \"wb\") as file:\n",
    "    pickle.dump(scaler, file)"
   ]
  },
  {
   "cell_type": "markdown",
   "id": "d4752e39-5bd0-45dc-9458-dee3ac4c8fea",
   "metadata": {},
   "source": [
    "## 7.Définir les caractéristiques (X) et la cible (y)"
   ]
  },
  {
   "cell_type": "code",
   "execution_count": 15,
   "id": "f5bd78ab-2d5f-4bbc-b69c-f9d964e29f87",
   "metadata": {},
   "outputs": [],
   "source": [
    "X = df.drop(columns=['CustomerID', 'Churn'])\n",
    "y = df['Churn']"
   ]
  },
  {
   "cell_type": "markdown",
   "id": "287885b2-f9b9-4708-88ea-36862ef6600a",
   "metadata": {},
   "source": [
    "## 8.Diviser en ensembles d'entraînement et de test"
   ]
  },
  {
   "cell_type": "code",
   "execution_count": 16,
   "id": "3afbda14-8973-4705-8f32-b60f977a7d8d",
   "metadata": {},
   "outputs": [],
   "source": [
    "X_train, X_test, y_train, y_test = train_test_split(X, y, test_size=0.2, random_state=42)\n"
   ]
  },
  {
   "cell_type": "markdown",
   "id": "4001eedf-dc1f-487e-8f40-45b2489468c9",
   "metadata": {},
   "source": [
    "##  9.Sauvegarder les ensembles d'entraînement et de test"
   ]
  },
  {
   "cell_type": "code",
   "execution_count": 17,
   "id": "ffd3a3c7-5b6c-40d7-a315-968c701a3e3d",
   "metadata": {},
   "outputs": [
    {
     "name": "stdout",
     "output_type": "stream",
     "text": [
      "Les données d'entraînement ont été sauvegardées dans : ../data/customer_churn_train.csv\n",
      "Les données de test ont été sauvegardées dans : ../data/customer_churn_test.csv\n"
     ]
    }
   ],
   "source": [
    "train_data = pd.concat([X_train, y_train], axis=1)\n",
    "test_data = pd.concat([X_test, y_test], axis=1)\n",
    "\n",
    "train_path = '../data/customer_churn_train.csv'\n",
    "test_path = '../data/customer_churn_test.csv'\n",
    "\n",
    "train_data.to_csv(train_path, index=False)\n",
    "test_data.to_csv(test_path, index=False)\n",
    "\n",
    "print(f\"Les données d'entraînement ont été sauvegardées dans : {train_path}\")\n",
    "print(f\"Les données de test ont été sauvegardées dans : {test_path}\")"
   ]
  },
  {
   "cell_type": "code",
   "execution_count": null,
   "id": "4e0c3f94-d108-4c08-a020-39c0d289cfed",
   "metadata": {},
   "outputs": [],
   "source": []
  }
 ],
 "metadata": {
  "kernelspec": {
   "display_name": "Python 3 (ipykernel)",
   "language": "python",
   "name": "python3"
  },
  "language_info": {
   "codemirror_mode": {
    "name": "ipython",
    "version": 3
   },
   "file_extension": ".py",
   "mimetype": "text/x-python",
   "name": "python",
   "nbconvert_exporter": "python",
   "pygments_lexer": "ipython3",
   "version": "3.12.2"
  }
 },
 "nbformat": 4,
 "nbformat_minor": 5
}
