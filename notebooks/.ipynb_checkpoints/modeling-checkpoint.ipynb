{
 "cells": [
  {
   "cell_type": "code",
   "execution_count": 3,
   "id": "0af667fe-6838-4941-b80a-e8a264e264b3",
   "metadata": {},
   "outputs": [],
   "source": [
    "warnings.filterwarnings(\"ignore\")\n",
    "from dotenv import load_dotenv\n",
    "import os\n",
    "\n",
    "import pandas as pd\n",
    "pd.options.display.max_columns = None\n",
    "import seaborn as sns\n",
    "from sklearn.svm import SVC, LinearSVC\n",
    "from sklearn.naive_bayes import GaussianNB\n",
    "from sklearn.metrics import confusion_matrix, classification_report\n",
    "from sklearn.ensemble import RandomForestClassifier\n",
    "from sklearn.metrics import classification_report, f1_score\n",
    "from xgboost import XGBClassifier\n",
    "from sklearn.neighbors import KNeighborsClassifier\n",
    "from sklearn.neural_network import MLPClassifier\n",
    "from sklearn.metrics import precision_recall_fscore_support as score\n",
    "import mlflow\n",
    "import datetime\n",
    "import warnings\n",
    "import os"
   ]
  },
  {
   "cell_type": "code",
   "execution_count": 4,
   "id": "69b02922-bb26-4805-8e9e-aa24727b3fdc",
   "metadata": {},
   "outputs": [],
   "source": [
    "load_dotenv(\"../backend/src/.env\")\n",
    "DagsHub_username = os.getenv(\"DagsHub_username\")\n",
    "DagsHub_token=os.getenv(\"DagsHub_token\") \n"
   ]
  },
  {
   "cell_type": "code",
   "execution_count": 5,
   "id": "be9c655a-fbe5-4f80-96a7-107695ac05b6",
   "metadata": {},
   "outputs": [
    {
     "name": "stdout",
     "output_type": "stream",
     "text": [
      "rami4real\n"
     ]
    }
   ],
   "source": [
    "print(DagsHub_username)"
   ]
  },
  {
   "cell_type": "code",
   "execution_count": 6,
   "id": "e7aa7a00-64e9-4e3c-b106-cddbdd13520b",
   "metadata": {},
   "outputs": [],
   "source": [
    "os.environ['MLFLOW_TRACKING_USERNAME']= DagsHub_username\n",
    "os.environ[\"MLFLOW_TRACKING_PASSWORD\"] = DagsHub_token"
   ]
  },
  {
   "cell_type": "code",
   "execution_count": 7,
   "id": "e49bd4c9-ed20-4569-ace7-cdff04b11ca7",
   "metadata": {},
   "outputs": [
    {
     "name": "stderr",
     "output_type": "stream",
     "text": [
      "2024/12/09 09:22:44 INFO mlflow.tracking.fluent: Experiment with name 'churn-experiment' does not exist. Creating a new experiment.\n"
     ]
    },
    {
     "data": {
      "text/plain": [
       "<Experiment: artifact_location='mlflow-artifacts:/566ae890f7ca4c2db92c2a642aca7189', creation_time=1733732561769, experiment_id='0', last_update_time=1733732561769, lifecycle_stage='active', name='churn-experiment', tags={}>"
      ]
     },
     "execution_count": 7,
     "metadata": {},
     "output_type": "execute_result"
    }
   ],
   "source": [
    "mlflow.set_tracking_uri('https://dagshub.com/rami4real/mymlproject.mlflow') #your mlfow tracking uri\n",
    "mlflow.set_experiment(\"churn-experiment\")"
   ]
  },
  {
   "cell_type": "code",
   "execution_count": 20,
   "id": "f6db0d2a-82bb-4625-ab75-34dc0aa16ada",
   "metadata": {},
   "outputs": [],
   "source": [
    "data_train = pd.read_csv(\"../data/customer_churn_train.csv\")\n",
    "data_test = pd.read_csv(\"../data/customer_churn_test.csv\")"
   ]
  },
  {
   "cell_type": "code",
   "execution_count": 21,
   "id": "1bf0cda3-a593-4342-975a-afadd7eba0f5",
   "metadata": {},
   "outputs": [
    {
     "name": "stdout",
     "output_type": "stream",
     "text": [
      "<class 'pandas.core.frame.DataFrame'>\n",
      "RangeIndex: 404164 entries, 0 to 404163\n",
      "Data columns (total 10 columns):\n",
      " #   Column             Non-Null Count   Dtype  \n",
      "---  ------             --------------   -----  \n",
      " 0   Age                404164 non-null  float64\n",
      " 1   Gender             404164 non-null  int64  \n",
      " 2   Tenure             404164 non-null  float64\n",
      " 3   Usage Frequency    404164 non-null  float64\n",
      " 4   Support Calls      404164 non-null  float64\n",
      " 5   Payment Delay      404164 non-null  float64\n",
      " 6   Subscription Type  404164 non-null  int64  \n",
      " 7   Contract Length    404164 non-null  int64  \n",
      " 8   Total Spend        404164 non-null  float64\n",
      " 9   Last Interaction   404164 non-null  float64\n",
      "dtypes: float64(7), int64(3)\n",
      "memory usage: 30.8 MB\n"
     ]
    }
   ],
   "source": [
    "x_train = data_train.drop(['Churn'],axis = 1)  # All rows except the last two\n",
    "y_train = data_train['Churn']   # The last row\n",
    "x_test = data_test.drop(['Churn'],axis = 1)   # All rows except the last two\n",
    "y_test = data_test['Churn'] \n",
    "x_train.info()"
   ]
  },
  {
   "cell_type": "code",
   "execution_count": 22,
   "id": "c6fd6fcd-a54d-421a-ae16-5f59117b54d0",
   "metadata": {},
   "outputs": [
    {
     "name": "stdout",
     "output_type": "stream",
     "text": [
      "<class 'pandas.core.frame.DataFrame'>\n",
      "RangeIndex: 101042 entries, 0 to 101041\n",
      "Data columns (total 10 columns):\n",
      " #   Column             Non-Null Count   Dtype  \n",
      "---  ------             --------------   -----  \n",
      " 0   Age                101042 non-null  float64\n",
      " 1   Gender             101042 non-null  int64  \n",
      " 2   Tenure             101042 non-null  float64\n",
      " 3   Usage Frequency    101042 non-null  float64\n",
      " 4   Support Calls      101042 non-null  float64\n",
      " 5   Payment Delay      101042 non-null  float64\n",
      " 6   Subscription Type  101042 non-null  int64  \n",
      " 7   Contract Length    101042 non-null  int64  \n",
      " 8   Total Spend        101042 non-null  float64\n",
      " 9   Last Interaction   101042 non-null  float64\n",
      "dtypes: float64(7), int64(3)\n",
      "memory usage: 7.7 MB\n"
     ]
    }
   ],
   "source": [
    "x_test.info()"
   ]
  },
  {
   "cell_type": "code",
   "execution_count": 23,
   "id": "bc37fbc3-16be-42f2-9118-608772b323ba",
   "metadata": {},
   "outputs": [
    {
     "data": {
      "text/html": [
       "<div>\n",
       "<style scoped>\n",
       "    .dataframe tbody tr th:only-of-type {\n",
       "        vertical-align: middle;\n",
       "    }\n",
       "\n",
       "    .dataframe tbody tr th {\n",
       "        vertical-align: top;\n",
       "    }\n",
       "\n",
       "    .dataframe thead th {\n",
       "        text-align: right;\n",
       "    }\n",
       "</style>\n",
       "<table border=\"1\" class=\"dataframe\">\n",
       "  <thead>\n",
       "    <tr style=\"text-align: right;\">\n",
       "      <th></th>\n",
       "      <th>Age</th>\n",
       "      <th>Gender</th>\n",
       "      <th>Tenure</th>\n",
       "      <th>Usage Frequency</th>\n",
       "      <th>Support Calls</th>\n",
       "      <th>Payment Delay</th>\n",
       "      <th>Subscription Type</th>\n",
       "      <th>Contract Length</th>\n",
       "      <th>Total Spend</th>\n",
       "      <th>Last Interaction</th>\n",
       "    </tr>\n",
       "  </thead>\n",
       "  <tbody>\n",
       "    <tr>\n",
       "      <th>0</th>\n",
       "      <td>1.601809</td>\n",
       "      <td>0</td>\n",
       "      <td>1.429999</td>\n",
       "      <td>0.033086</td>\n",
       "      <td>-0.585052</td>\n",
       "      <td>-1.478710</td>\n",
       "      <td>2</td>\n",
       "      <td>0</td>\n",
       "      <td>-0.897088</td>\n",
       "      <td>-0.884100</td>\n",
       "    </tr>\n",
       "    <tr>\n",
       "      <th>1</th>\n",
       "      <td>-0.765883</td>\n",
       "      <td>1</td>\n",
       "      <td>0.327749</td>\n",
       "      <td>1.309289</td>\n",
       "      <td>-0.904173</td>\n",
       "      <td>0.296190</td>\n",
       "      <td>2</td>\n",
       "      <td>0</td>\n",
       "      <td>-0.142193</td>\n",
       "      <td>-1.464937</td>\n",
       "    </tr>\n",
       "    <tr>\n",
       "      <th>2</th>\n",
       "      <td>-1.081576</td>\n",
       "      <td>1</td>\n",
       "      <td>0.791855</td>\n",
       "      <td>0.961234</td>\n",
       "      <td>-0.904173</td>\n",
       "      <td>-0.058790</td>\n",
       "      <td>1</td>\n",
       "      <td>2</td>\n",
       "      <td>0.208778</td>\n",
       "      <td>0.742241</td>\n",
       "    </tr>\n",
       "    <tr>\n",
       "      <th>3</th>\n",
       "      <td>0.812578</td>\n",
       "      <td>1</td>\n",
       "      <td>-1.238606</td>\n",
       "      <td>0.613178</td>\n",
       "      <td>0.053192</td>\n",
       "      <td>-0.295443</td>\n",
       "      <td>0</td>\n",
       "      <td>2</td>\n",
       "      <td>-0.334555</td>\n",
       "      <td>-0.651766</td>\n",
       "    </tr>\n",
       "    <tr>\n",
       "      <th>4</th>\n",
       "      <td>-0.371268</td>\n",
       "      <td>0</td>\n",
       "      <td>-0.716488</td>\n",
       "      <td>0.845215</td>\n",
       "      <td>0.372314</td>\n",
       "      <td>-0.058790</td>\n",
       "      <td>2</td>\n",
       "      <td>0</td>\n",
       "      <td>-0.664738</td>\n",
       "      <td>-0.651766</td>\n",
       "    </tr>\n",
       "    <tr>\n",
       "      <th>...</th>\n",
       "      <td>...</td>\n",
       "      <td>...</td>\n",
       "      <td>...</td>\n",
       "      <td>...</td>\n",
       "      <td>...</td>\n",
       "      <td>...</td>\n",
       "      <td>...</td>\n",
       "      <td>...</td>\n",
       "      <td>...</td>\n",
       "      <td>...</td>\n",
       "    </tr>\n",
       "    <tr>\n",
       "      <th>101037</th>\n",
       "      <td>0.417963</td>\n",
       "      <td>0</td>\n",
       "      <td>-1.586686</td>\n",
       "      <td>-0.314970</td>\n",
       "      <td>-1.223295</td>\n",
       "      <td>0.177864</td>\n",
       "      <td>1</td>\n",
       "      <td>0</td>\n",
       "      <td>0.158802</td>\n",
       "      <td>-0.070929</td>\n",
       "    </tr>\n",
       "    <tr>\n",
       "      <th>101038</th>\n",
       "      <td>-0.213422</td>\n",
       "      <td>0</td>\n",
       "      <td>1.197947</td>\n",
       "      <td>0.729197</td>\n",
       "      <td>-0.585052</td>\n",
       "      <td>-0.295443</td>\n",
       "      <td>2</td>\n",
       "      <td>0</td>\n",
       "      <td>0.817822</td>\n",
       "      <td>-1.581104</td>\n",
       "    </tr>\n",
       "    <tr>\n",
       "      <th>101039</th>\n",
       "      <td>0.102271</td>\n",
       "      <td>1</td>\n",
       "      <td>-1.238606</td>\n",
       "      <td>-1.011081</td>\n",
       "      <td>0.053192</td>\n",
       "      <td>0.296190</td>\n",
       "      <td>2</td>\n",
       "      <td>0</td>\n",
       "      <td>-0.263423</td>\n",
       "      <td>-1.348769</td>\n",
       "    </tr>\n",
       "    <tr>\n",
       "      <th>101040</th>\n",
       "      <td>-1.160499</td>\n",
       "      <td>0</td>\n",
       "      <td>0.733841</td>\n",
       "      <td>-1.591174</td>\n",
       "      <td>-0.904173</td>\n",
       "      <td>-1.360383</td>\n",
       "      <td>0</td>\n",
       "      <td>0</td>\n",
       "      <td>0.233155</td>\n",
       "      <td>-0.303264</td>\n",
       "    </tr>\n",
       "    <tr>\n",
       "      <th>101041</th>\n",
       "      <td>0.575809</td>\n",
       "      <td>0</td>\n",
       "      <td>0.849868</td>\n",
       "      <td>-1.011081</td>\n",
       "      <td>1.967923</td>\n",
       "      <td>-0.295443</td>\n",
       "      <td>1</td>\n",
       "      <td>2</td>\n",
       "      <td>1.295975</td>\n",
       "      <td>0.393740</td>\n",
       "    </tr>\n",
       "  </tbody>\n",
       "</table>\n",
       "<p>101042 rows × 10 columns</p>\n",
       "</div>"
      ],
      "text/plain": [
       "             Age  Gender    Tenure  Usage Frequency  Support Calls  \\\n",
       "0       1.601809       0  1.429999         0.033086      -0.585052   \n",
       "1      -0.765883       1  0.327749         1.309289      -0.904173   \n",
       "2      -1.081576       1  0.791855         0.961234      -0.904173   \n",
       "3       0.812578       1 -1.238606         0.613178       0.053192   \n",
       "4      -0.371268       0 -0.716488         0.845215       0.372314   \n",
       "...          ...     ...       ...              ...            ...   \n",
       "101037  0.417963       0 -1.586686        -0.314970      -1.223295   \n",
       "101038 -0.213422       0  1.197947         0.729197      -0.585052   \n",
       "101039  0.102271       1 -1.238606        -1.011081       0.053192   \n",
       "101040 -1.160499       0  0.733841        -1.591174      -0.904173   \n",
       "101041  0.575809       0  0.849868        -1.011081       1.967923   \n",
       "\n",
       "        Payment Delay  Subscription Type  Contract Length  Total Spend  \\\n",
       "0           -1.478710                  2                0    -0.897088   \n",
       "1            0.296190                  2                0    -0.142193   \n",
       "2           -0.058790                  1                2     0.208778   \n",
       "3           -0.295443                  0                2    -0.334555   \n",
       "4           -0.058790                  2                0    -0.664738   \n",
       "...               ...                ...              ...          ...   \n",
       "101037       0.177864                  1                0     0.158802   \n",
       "101038      -0.295443                  2                0     0.817822   \n",
       "101039       0.296190                  2                0    -0.263423   \n",
       "101040      -1.360383                  0                0     0.233155   \n",
       "101041      -0.295443                  1                2     1.295975   \n",
       "\n",
       "        Last Interaction  \n",
       "0              -0.884100  \n",
       "1              -1.464937  \n",
       "2               0.742241  \n",
       "3              -0.651766  \n",
       "4              -0.651766  \n",
       "...                  ...  \n",
       "101037         -0.070929  \n",
       "101038         -1.581104  \n",
       "101039         -1.348769  \n",
       "101040         -0.303264  \n",
       "101041          0.393740  \n",
       "\n",
       "[101042 rows x 10 columns]"
      ]
     },
     "execution_count": 23,
     "metadata": {},
     "output_type": "execute_result"
    }
   ],
   "source": [
    "x_test"
   ]
  },
  {
   "cell_type": "code",
   "execution_count": 24,
   "id": "14ad0bb8-cd6b-4d76-a4dd-dba294f49040",
   "metadata": {},
   "outputs": [
    {
     "data": {
      "text/plain": [
       "0         1\n",
       "1         0\n",
       "2         0\n",
       "3         0\n",
       "4         1\n",
       "         ..\n",
       "101037    0\n",
       "101038    0\n",
       "101039    0\n",
       "101040    0\n",
       "101041    0\n",
       "Name: Churn, Length: 101042, dtype: int64"
      ]
     },
     "execution_count": 24,
     "metadata": {},
     "output_type": "execute_result"
    }
   ],
   "source": [
    "y_test"
   ]
  },
  {
   "cell_type": "code",
   "execution_count": 25,
   "id": "f1ec27ea-1979-4966-8059-9ee2c9f0a6fc",
   "metadata": {},
   "outputs": [],
   "source": [
    "def train_and_evaluate_model(model, x_train, y_train, x_test, y_test):\n",
    "    \"\"\"\n",
    "    Train the model and evaluate it on test data.\n",
    "    Returns the classification report as a dictionary.\n",
    "    \"\"\"\n",
    "    model.fit(x_train, y_train)\n",
    "    y_pred = model.predict(x_test)\n",
    "    report = classification_report(y_test, y_pred, output_dict=True)\n",
    "    return report"
   ]
  },
  {
   "cell_type": "code",
   "execution_count": 26,
   "id": "bcc1ca83-687d-4047-9b83-dadc3c74a636",
   "metadata": {},
   "outputs": [],
   "source": [
    "models = {\n",
    "    \"Linear SVC\": LinearSVC(),\n",
    "    \"Naive Bayes\": GaussianNB(),\n",
    "    \"Random Forest\": RandomForestClassifier(random_state=42),\n",
    "    \"XGBoost\": XGBClassifier(use_label_encoder=False, eval_metric='logloss', random_state=42),\n",
    "    \"K-Nearest Neighbors\": KNeighborsClassifier(),\n",
    "    \"MLP Classifier\": MLPClassifier(random_state=42)\n",
    "}"
   ]
  },
  {
   "cell_type": "code",
   "execution_count": 27,
   "id": "0aa95d31-fa92-405d-9ea1-76ae0b9ba461",
   "metadata": {},
   "outputs": [
    {
     "name": "stdout",
     "output_type": "stream",
     "text": [
      "Training model: Linear SVC...\n",
      "Training model: Naive Bayes...\n",
      "Training model: Random Forest...\n",
      "Training model: XGBoost...\n",
      "Training model: K-Nearest Neighbors...\n",
      "Training model: MLP Classifier...\n"
     ]
    }
   ],
   "source": [
    "results = {}\n",
    "\n",
    "# Train and evaluate each model\n",
    "for model_name, model in models.items():\n",
    "    print(f\"Training model: {model_name}...\")\n",
    "    report = train_and_evaluate_model(model, x_train, y_train, x_test, y_test)\n",
    "    results[model_name] = {\n",
    "        \"F1-Score (0)\": report[\"0\"][\"f1-score\"],\n",
    "        \"F1-Score (1)\": report[\"1\"][\"f1-score\"]\n",
    "    }"
   ]
  },
  {
   "cell_type": "code",
   "execution_count": 31,
   "id": "70b988a7-9366-4bec-a186-d7a063523e6a",
   "metadata": {},
   "outputs": [
    {
     "name": "stdout",
     "output_type": "stream",
     "text": [
      "\n",
      "Model Comparison (sorted by F1 Score):\n",
      "                 Model  F1 Score\n",
      "2        Random Forest  0.945193\n",
      "3              XGBoost  0.943054\n",
      "5       MLP Classifier  0.933756\n",
      "4  K-Nearest Neighbors  0.908235\n",
      "1          Naive Bayes  0.866768\n",
      "0           Linear SVC  0.832492\n"
     ]
    }
   ],
   "source": [
    "comparison = pd.DataFrame([\n",
    "    {\"Model\": model_name, \"F1 Score\": max(scores.values())}  # Use max F1-Score for comparison\n",
    "    for model_name, scores in results.items()\n",
    "]).sort_values(by=\"F1 Score\", ascending=False)\n",
    "\n",
    "print(\"\\nModel Comparison (sorted by F1 Score):\")\n",
    "print(comparison)\n"
   ]
  },
  {
   "cell_type": "code",
   "execution_count": 32,
   "id": "1d380633-0554-48ad-8898-526f99341898",
   "metadata": {},
   "outputs": [
    {
     "name": "stdout",
     "output_type": "stream",
     "text": [
      "\n",
      "Comparative Table of F1-Scores:\n"
     ]
    },
    {
     "data": {
      "text/html": [
       "<div>\n",
       "<style scoped>\n",
       "    .dataframe tbody tr th:only-of-type {\n",
       "        vertical-align: middle;\n",
       "    }\n",
       "\n",
       "    .dataframe tbody tr th {\n",
       "        vertical-align: top;\n",
       "    }\n",
       "\n",
       "    .dataframe thead th {\n",
       "        text-align: right;\n",
       "    }\n",
       "</style>\n",
       "<table border=\"1\" class=\"dataframe\">\n",
       "  <thead>\n",
       "    <tr style=\"text-align: right;\">\n",
       "      <th></th>\n",
       "      <th>Linear SVC</th>\n",
       "      <th>Naive Bayes</th>\n",
       "      <th>Random Forest</th>\n",
       "      <th>XGBoost</th>\n",
       "      <th>K-Nearest Neighbors</th>\n",
       "      <th>MLP Classifier</th>\n",
       "    </tr>\n",
       "  </thead>\n",
       "  <tbody>\n",
       "    <tr>\n",
       "      <th>F1-Score (0)</th>\n",
       "      <td>0.801039</td>\n",
       "      <td>0.844923</td>\n",
       "      <td>0.922662</td>\n",
       "      <td>0.920188</td>\n",
       "      <td>0.883508</td>\n",
       "      <td>0.909644</td>\n",
       "    </tr>\n",
       "    <tr>\n",
       "      <th>F1-Score (1)</th>\n",
       "      <td>0.832492</td>\n",
       "      <td>0.866768</td>\n",
       "      <td>0.945193</td>\n",
       "      <td>0.943054</td>\n",
       "      <td>0.908235</td>\n",
       "      <td>0.933756</td>\n",
       "    </tr>\n",
       "  </tbody>\n",
       "</table>\n",
       "</div>"
      ],
      "text/plain": [
       "              Linear SVC  Naive Bayes  Random Forest   XGBoost  \\\n",
       "F1-Score (0)    0.801039     0.844923       0.922662  0.920188   \n",
       "F1-Score (1)    0.832492     0.866768       0.945193  0.943054   \n",
       "\n",
       "              K-Nearest Neighbors  MLP Classifier  \n",
       "F1-Score (0)             0.883508        0.909644  \n",
       "F1-Score (1)             0.908235        0.933756  "
      ]
     },
     "execution_count": 32,
     "metadata": {},
     "output_type": "execute_result"
    }
   ],
   "source": [
    "# Create a comparative table\n",
    "results_df = pd.DataFrame(results)\n",
    "print(\"\\nComparative Table of F1-Scores:\")\n",
    "\n",
    "# Display the table\n",
    "results_df"
   ]
  },
  {
   "cell_type": "markdown",
   "id": "6626bffc-afdc-407a-b62a-cdb0981f91b5",
   "metadata": {},
   "source": [
    "## Best Performers:\n",
    "For Class 0, Random Forest achieves the highest F1-score of 0.922662, followed closely by XGBoost (0.920188) and MLP Classifier (0.909644).\n",
    "\n",
    "For Class 1, Random Forest leads with an F1-score of 0.945193, closely followed by XGBoost (0.943054) and MLP Classifier (0.933756).\n",
    "## Ensemble methods like Random Forest and XGBoost consistently outperform other algorithms in both classes, suggesting their robustness for handling churn data."
   ]
  },
  {
   "cell_type": "markdown",
   "id": "284f6416-4be9-4175-9710-f6777560127e",
   "metadata": {},
   "source": [
    "### XGBoost"
   ]
  },
  {
   "cell_type": "code",
   "execution_count": 35,
   "id": "37179219-7410-459f-9bc6-a13e4c62a930",
   "metadata": {},
   "outputs": [
    {
     "name": "stderr",
     "output_type": "stream",
     "text": [
      "2024/12/09 09:47:19 WARNING mlflow.models.model: Model logged without a signature and input example. Please set `input_example` parameter when logging the model to auto infer the model signature.\n"
     ]
    },
    {
     "name": "stdout",
     "output_type": "stream",
     "text": [
      "🏃 View run XGBoost at: https://dagshub.com/rami4real/mymlproject.mlflow/#/experiments/0/runs/d8addf2a337742b89bdce0347e794e3e\n",
      "🧪 View experiment at: https://dagshub.com/rami4real/mymlproject.mlflow/#/experiments/0\n"
     ]
    }
   ],
   "source": [
    "with mlflow.start_run(run_name='XGBoost'):\n",
    "    mlflow.log_param(\"data_train\",\"../data/data_train.csv\")\n",
    "    mlflow.log_param(\"data_test\",\"../data/data_test.csv\")\n",
    "    mlflow.log_param(\"data_version\",\"v1.0\")\n",
    "    xgb_model = XGBClassifier()\n",
    "    params = xgb_model.get_params()\n",
    "    mlflow.log_params(params)\n",
    "    mlflow.set_tag(key=\"model\", value=\"XGBoost\")\n",
    "    xgb_model.fit(x_train, y_train)\n",
    "    train_features_name = f'{x_train=}'.split('=')[0]\n",
    "    train_label_name = f'{y_train=}'.split('=')[0]\n",
    "    mlflow.set_tag(key=\"train_features_name\", value=train_features_name)\n",
    "    mlflow.set_tag(key=\"train_label_name\", value=train_label_name)\n",
    "    predicted = xgb_model.predict(x_test)\n",
    "    precision, recall, fscore, support = score(y_test, predicted, average='macro')\n",
    "    \n",
    "    mlflow.log_metric(\"Precision_test\", precision)\n",
    "    mlflow.log_metric(\"Recall_test\", recall)\n",
    "    mlflow.log_metric(\"F1_score_test\", fscore)\n",
    "    \n",
    "    # Log the trained model as an artifact\n",
    "    mlflow.sklearn.log_model(xgb_model, artifact_path=\"ML_models\")"
   ]
  },
  {
   "cell_type": "code",
   "execution_count": 36,
   "id": "9541923d-35b0-4dd8-bf73-48e1a0a0390a",
   "metadata": {},
   "outputs": [
    {
     "name": "stderr",
     "output_type": "stream",
     "text": [
      "2024/12/09 09:54:00 WARNING mlflow.models.model: Model logged without a signature and input example. Please set `input_example` parameter when logging the model to auto infer the model signature.\n"
     ]
    },
    {
     "name": "stdout",
     "output_type": "stream",
     "text": [
      "🏃 View run Random Forest at: https://dagshub.com/rami4real/mymlproject.mlflow/#/experiments/0/runs/b59bd7cdce7b4984bdab1f60b1dd9916\n",
      "🧪 View experiment at: https://dagshub.com/rami4real/mymlproject.mlflow/#/experiments/0\n"
     ]
    }
   ],
   "source": [
    "\n",
    "with mlflow.start_run(run_name='Random Forest'):\n",
    "    # Log dataset information\n",
    "    mlflow.log_param(\"data_train\", \"../data/data_train.csv\")\n",
    "    mlflow.log_param(\"data_test\", \"../data/data_test.csv\")\n",
    "    mlflow.log_param(\"data_version\", \"v1.0\")\n",
    "    \n",
    "    # Initialize and log Random Forest model parameters\n",
    "    rf_model = RandomForestClassifier()\n",
    "    params = rf_model.get_params()\n",
    "    mlflow.log_params(params)\n",
    "    mlflow.set_tag(key=\"model\", value=\"Random Forest\")\n",
    "    \n",
    "    # Train the Random Forest model\n",
    "    rf_model.fit(x_train, y_train)\n",
    "    \n",
    "    # Log feature and label names as tags\n",
    "    train_features_name = f'{x_train=}'.split('=')[0]\n",
    "    train_label_name = f'{y_train=}'.split('=')[0]\n",
    "    mlflow.set_tag(key=\"train_features_name\", value=train_features_name)\n",
    "    mlflow.set_tag(key=\"train_label_name\", value=train_label_name)\n",
    "    \n",
    "    # Make predictions and calculate metrics\n",
    "    predicted = rf_model.predict(x_test)\n",
    "    precision, recall, fscore, support = score(y_test, predicted, average='macro')\n",
    "    \n",
    "    # Log metrics\n",
    "    mlflow.log_metric(\"Precision_test\", precision)\n",
    "    mlflow.log_metric(\"Recall_test\", recall)\n",
    "    mlflow.log_metric(\"F1_score_test\", fscore)\n",
    "    \n",
    "    # Log the trained model as an artifact\n",
    "    mlflow.sklearn.log_model(rf_model, artifact_path=\"ML_models\")"
   ]
  },
  {
   "cell_type": "markdown",
   "id": "bcc0d57c-e399-452d-ae8e-58589b4b754b",
   "metadata": {},
   "source": [
    "## Finetuning"
   ]
  },
  {
   "cell_type": "code",
   "execution_count": null,
   "id": "1669d6fe-47f1-4d3b-b4a9-512cc7b8ebd8",
   "metadata": {},
   "outputs": [],
   "source": []
  },
  {
   "cell_type": "markdown",
   "id": "43e159a4-4b22-42c2-817b-bb0ec3bac6a1",
   "metadata": {},
   "source": [
    "# Test avec SMOTE"
   ]
  },
  {
   "cell_type": "code",
   "execution_count": 38,
   "id": "d558a1a3-7248-459c-8897-42c29426f2df",
   "metadata": {},
   "outputs": [
    {
     "name": "stdout",
     "output_type": "stream",
     "text": [
      "Collecting imblearn\n",
      "  Downloading imblearn-0.0-py2.py3-none-any.whl.metadata (355 bytes)\n",
      "Collecting imbalanced-learn (from imblearn)\n",
      "  Downloading imbalanced_learn-0.12.4-py3-none-any.whl.metadata (8.3 kB)\n",
      "Requirement already satisfied: numpy>=1.17.3 in /home/rami/miniconda3/lib/python3.12/site-packages (from imbalanced-learn->imblearn) (2.1.3)\n",
      "Requirement already satisfied: scipy>=1.5.0 in /home/rami/miniconda3/lib/python3.12/site-packages (from imbalanced-learn->imblearn) (1.14.1)\n",
      "Requirement already satisfied: scikit-learn>=1.0.2 in /home/rami/miniconda3/lib/python3.12/site-packages (from imbalanced-learn->imblearn) (1.5.2)\n",
      "Requirement already satisfied: joblib>=1.1.1 in /home/rami/miniconda3/lib/python3.12/site-packages (from imbalanced-learn->imblearn) (1.4.2)\n",
      "Requirement already satisfied: threadpoolctl>=2.0.0 in /home/rami/miniconda3/lib/python3.12/site-packages (from imbalanced-learn->imblearn) (3.5.0)\n",
      "Downloading imblearn-0.0-py2.py3-none-any.whl (1.9 kB)\n",
      "Downloading imbalanced_learn-0.12.4-py3-none-any.whl (258 kB)\n",
      "Installing collected packages: imbalanced-learn, imblearn\n",
      "Successfully installed imbalanced-learn-0.12.4 imblearn-0.0\n"
     ]
    }
   ],
   "source": [
    "from imblearn.over_sampling import SMOTE\n",
    "\n",
    "method= SMOTE()"
   ]
  },
  {
   "cell_type": "code",
   "execution_count": 45,
   "id": "1f7142a8-f775-4a0b-abcf-81ed657f81b1",
   "metadata": {},
   "outputs": [
    {
     "name": "stderr",
     "output_type": "stream",
     "text": [
      "2024/12/09 11:54:22 WARNING mlflow.models.model: Model logged without a signature and input example. Please set `input_example` parameter when logging the model to auto infer the model signature.\n"
     ]
    },
    {
     "name": "stdout",
     "output_type": "stream",
     "text": [
      "Model: XGBoost with SMOTE\n",
      "Confusion Matrix:\n",
      " [[38754  6332]\n",
      " [  568 55388]]\n",
      "Classification Report:\n",
      "               precision    recall  f1-score   support\n",
      "\n",
      "           0       0.99      0.86      0.92     45086\n",
      "           1       0.90      0.99      0.94     55956\n",
      "\n",
      "    accuracy                           0.93    101042\n",
      "   macro avg       0.94      0.92      0.93    101042\n",
      "weighted avg       0.94      0.93      0.93    101042\n",
      "\n",
      "🏃 View run XGBoost with SMOTE at: https://dagshub.com/rami4real/mymlproject.mlflow/#/experiments/0/runs/18ed0b70aced4fffa283013bc52cf070\n",
      "🧪 View experiment at: https://dagshub.com/rami4real/mymlproject.mlflow/#/experiments/0\n"
     ]
    }
   ],
   "source": [
    "\n",
    "# Start MLflow run for XGBoost with SMOTE\n",
    "with mlflow.start_run(run_name='XGBoost with SMOTE'):\n",
    "    mlflow.log_param(\"data_train\", \"../data/customer_churn_train.csv\")\n",
    "    mlflow.log_param(\"data_test\", \"../data/customer_churn_test.csv\")\n",
    "    mlflow.log_param(\"data_version\", \"v1.0\")\n",
    "    smote = SMOTE(random_state=42)\n",
    "\n",
    "    # Apply SMOTE to the training data\n",
    "    X_train_smote, y_train_smote = smote.fit_resample(x_train, y_train)\n",
    "\n",
    "    # Initialize XGBoost model\n",
    "    xgb = XGBClassifier(random_state=42)\n",
    "\n",
    "\n",
    "    # Fit the model with SMOTE\n",
    "    xgb.fit(X_train_smote, y_train_smote)\n",
    "\n",
    "    # Make predictions\n",
    "    y_pred = xgb.predict(x_test)\n",
    "\n",
    "    # Compute evaluation metrics\n",
    "    conf_matrix = confusion_matrix(y_test, y_pred)\n",
    "    report = classification_report(y_test, y_pred, output_dict=True)\n",
    "    f1 = f1_score(y_test, y_pred, average='weighted')\n",
    "\n",
    "    # Log model parameters, metrics, and model itself in MLflow\n",
    "    mlflow.set_tag(key=\"model\", value=\"XGBoost with SMOTE\")\n",
    "    mlflow.log_params(xgb.get_params())\n",
    "    precision, recall, fscore, support = score(y_test, predicted, average='macro')\n",
    "    \n",
    "    # Log metrics\n",
    "    mlflow.log_metric(\"Precision_test\", precision)\n",
    "    mlflow.log_metric(\"Recall_test\", recall)\n",
    "    mlflow.log_metric(\"F1_score_test\", fscore)\n",
    "\n",
    "    # Log the trained model\n",
    "    mlflow.xgboost.log_model(xgb, artifact_path=\"ML_models\")\n",
    "\n",
    "    # Print results\n",
    "    print(\"Model: XGBoost with SMOTE\")\n",
    "    print(\"Confusion Matrix:\\n\", conf_matrix)\n",
    "    print(\"Classification Report:\\n\", classification_report(y_test, y_pred))"
   ]
  },
  {
   "cell_type": "code",
   "execution_count": 46,
   "id": "363d2234-d2ba-4933-a4dd-8e8ce3b23c7a",
   "metadata": {},
   "outputs": [
    {
     "name": "stderr",
     "output_type": "stream",
     "text": [
      "2024/12/09 12:00:03 WARNING mlflow.models.model: Model logged without a signature and input example. Please set `input_example` parameter when logging the model to auto infer the model signature.\n"
     ]
    },
    {
     "name": "stdout",
     "output_type": "stream",
     "text": [
      "Model: RandomForest with SMOTE\n",
      "Confusion Matrix:\n",
      " [[38665  6421]\n",
      " [   65 55891]]\n",
      "Classification Report:\n",
      "               precision    recall  f1-score   support\n",
      "\n",
      "           0       1.00      0.86      0.92     45086\n",
      "           1       0.90      1.00      0.95     55956\n",
      "\n",
      "    accuracy                           0.94    101042\n",
      "   macro avg       0.95      0.93      0.93    101042\n",
      "weighted avg       0.94      0.94      0.94    101042\n",
      "\n",
      "🏃 View run RandomForest with SMOTE at: https://dagshub.com/rami4real/mymlproject.mlflow/#/experiments/0/runs/3895f5666d544625a0123a97665733aa\n",
      "🧪 View experiment at: https://dagshub.com/rami4real/mymlproject.mlflow/#/experiments/0\n"
     ]
    }
   ],
   "source": [
    "# Start MLflow run for Random Forest with SMOTE\n",
    "with mlflow.start_run(run_name='RandomForest with SMOTE'):\n",
    "    mlflow.log_param(\"data_train\", \"../data/customer_churn_train.csv\")\n",
    "    mlflow.log_param(\"data_test\", \"../data/customer_churn_test.csv\")\n",
    "    mlflow.log_param(\"data_version\", \"v1.0\")\n",
    "    \n",
    "    # Apply SMOTE to the training data\n",
    "    smote = SMOTE(random_state=42)\n",
    "    X_train_smote, y_train_smote = smote.fit_resample(x_train, y_train)\n",
    "\n",
    "    # Initialize Random Forest model\n",
    "    rf = RandomForestClassifier(random_state=42)\n",
    "\n",
    "    # Fit the model with SMOTE\n",
    "    rf.fit(X_train_smote, y_train_smote)\n",
    "\n",
    "    # Make predictions\n",
    "    y_pred = rf.predict(x_test)\n",
    "\n",
    "    # Compute evaluation metrics\n",
    "    conf_matrix = confusion_matrix(y_test, y_pred)\n",
    "    report = classification_report(y_test, y_pred, output_dict=True)\n",
    "    f1 = f1_score(y_test, y_pred, average='weighted')\n",
    "\n",
    "    # Log model parameters, metrics, and model itself in MLflow\n",
    "    mlflow.set_tag(key=\"model\", value=\"RandomForest with SMOTE\")\n",
    "    mlflow.log_params(rf.get_params())\n",
    "    \n",
    "    # Compute precision, recall, and F1 score\n",
    "    precision, recall, fscore, support = score(y_test, y_pred, average='macro')\n",
    "    \n",
    "    # Log metrics\n",
    "    mlflow.log_metric(\"Precision_test\", precision)\n",
    "    mlflow.log_metric(\"Recall_test\", recall)\n",
    "    mlflow.log_metric(\"F1_score_test\", fscore)\n",
    "\n",
    "    # Log the trained model\n",
    "    mlflow.sklearn.log_model(rf, artifact_path=\"ML_models\")\n",
    "\n",
    "    # Print results\n",
    "    print(\"Model: RandomForest with SMOTE\")\n",
    "    print(\"Confusion Matrix:\\n\", conf_matrix)\n",
    "    print(\"Classification Report:\\n\", classification_report(y_test, y_pred))\n"
   ]
  },
  {
   "cell_type": "code",
   "execution_count": null,
   "id": "64b51e88-8484-4aa8-8b54-5db654bc6e59",
   "metadata": {},
   "outputs": [],
   "source": []
  }
 ],
 "metadata": {
  "kernelspec": {
   "display_name": "Python 3 (ipykernel)",
   "language": "python",
   "name": "python3"
  },
  "language_info": {
   "codemirror_mode": {
    "name": "ipython",
    "version": 3
   },
   "file_extension": ".py",
   "mimetype": "text/x-python",
   "name": "python",
   "nbconvert_exporter": "python",
   "pygments_lexer": "ipython3",
   "version": "3.12.2"
  }
 },
 "nbformat": 4,
 "nbformat_minor": 5
}
