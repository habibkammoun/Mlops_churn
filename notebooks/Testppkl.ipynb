{
 "cells": [
  {
   "cell_type": "code",
   "execution_count": 1,
   "id": "7db11c05-2261-4b3e-b6c3-17bd91025580",
   "metadata": {},
   "outputs": [
    {
     "name": "stdout",
     "output_type": "stream",
     "text": [
      "\n",
      "Encodage des variables catégoriques sur le test DataFrame :\n",
      "Colonne Gender encodée.\n",
      "Colonne Subscription Type encodée.\n",
      "Colonne Contract Length encodée.\n",
      "\n",
      "DataFrame après encodage :\n",
      "   Gender  Subscription Type  Contract Length\n",
      "0       1                  0                1\n",
      "1       0                  1                0\n",
      "2       0                  0                2\n",
      "3       1                  1                0\n"
     ]
    }
   ],
   "source": [
    "import pickle\n",
    "import pandas as pd\n",
    "from sklearn.preprocessing import LabelEncoder\n",
    "\n",
    "# Step 1: Load the LabelEncoders from the .ppkl file\n",
    "with open(\"label_encoders.ppkl\", \"rb\") as file:\n",
    "    label_encoders = pickle.load(file)\n",
    "\n",
    "# Step 2: Create a test DataFrame\n",
    "data = {\n",
    "    'Gender': ['Male', 'Female', 'Female', 'Male'],\n",
    "    'Subscription Type': ['Basic', 'Premium', 'Basic', 'Premium'],\n",
    "    'Contract Length': ['Monthly', 'Annual', 'Quarterly', 'Annual']\n",
    "}\n",
    "\n",
    "df = pd.DataFrame(data)\n",
    "\n",
    "# Step 3: Apply the loaded LabelEncoders to the test DataFrame\n",
    "print(\"\\nEncodage des variables catégoriques sur le test DataFrame :\")\n",
    "for col, le in label_encoders.items():\n",
    "    df[col] = le.transform(df[col])\n",
    "    print(f\"Colonne {col} encodée.\")\n",
    "\n",
    "# Display the test DataFrame after encoding\n",
    "print(\"\\nDataFrame après encodage :\")\n",
    "print(df)\n"
   ]
  },
  {
   "cell_type": "code",
   "execution_count": 2,
   "id": "c5442cb7-ecf9-4ea4-98d7-d0d51bdebae9",
   "metadata": {},
   "outputs": [
    {
     "name": "stdout",
     "output_type": "stream",
     "text": [
      "\n",
      "Application du StandardScaler sur le test DataFrame :\n",
      "\n",
      "DataFrame après mise à l'échelle :\n",
      "        Age    Tenure  Usage Frequency  Support Calls  Payment Delay  \\\n",
      "0 -1.160499 -1.760725        -1.243118      -0.904173       1.952764   \n",
      "1 -0.765883 -1.702712        -1.127100      -1.223295       5.502565   \n",
      "2 -0.371268 -1.644699        -1.011081      -0.585052       9.052365   \n",
      "3  0.023348 -1.586686        -0.895063      -0.265930      12.602166   \n",
      "\n",
      "   Total Spend  Last Interaction  \n",
      "0    -2.119986         -1.116435  \n",
      "1    -1.712353         -0.535598  \n",
      "2    -1.304721          0.045238  \n",
      "3    -0.897088          0.626074  \n"
     ]
    }
   ],
   "source": [
    "import pickle\n",
    "import pandas as pd\n",
    "from sklearn.preprocessing import StandardScaler\n",
    "numerical_columns = ['Age', 'Tenure', 'Usage Frequency', 'Support Calls', \n",
    "                     'Payment Delay', 'Total Spend', 'Last Interaction']\n",
    "# Step 1: Load the StandardScaler from the .ppkl file\n",
    "with open(\"scaler.ppkl\", \"rb\") as file:\n",
    "    scaler = pickle.load(file)\n",
    "\n",
    "# Step 2: Create a test DataFrame with numerical data\n",
    "data = {\n",
    "    'Age': [25, 30, 35, 40],\n",
    "    'Tenure': [1, 2, 3, 4],\n",
    "    'Usage Frequency': [5, 6, 7, 8],\n",
    "    'Support Calls': [1, 0, 2, 3],\n",
    "    'Payment Delay': [30, 60, 90, 120],\n",
    "    'Total Spend': [100, 200, 300, 400],\n",
    "    'Last Interaction': [5, 10, 15, 20]\n",
    "}\n",
    "\n",
    "df = pd.DataFrame(data)\n",
    "\n",
    "# Step 3: Apply the loaded StandardScaler to the test DataFrame\n",
    "print(\"\\nApplication du StandardScaler sur le test DataFrame :\")\n",
    "df[numerical_columns] = scaler.transform(df[numerical_columns])\n",
    "\n",
    "# Display the scaled DataFrame\n",
    "print(\"\\nDataFrame après mise à l'échelle :\")\n",
    "print(df)\n"
   ]
  },
  {
   "cell_type": "code",
   "execution_count": null,
   "id": "2e9a60cb-388b-425f-8a51-72e69148035a",
   "metadata": {},
   "outputs": [],
   "source": []
  }
 ],
 "metadata": {
  "kernelspec": {
   "display_name": "Python 3 (ipykernel)",
   "language": "python",
   "name": "python3"
  },
  "language_info": {
   "codemirror_mode": {
    "name": "ipython",
    "version": 3
   },
   "file_extension": ".py",
   "mimetype": "text/x-python",
   "name": "python",
   "nbconvert_exporter": "python",
   "pygments_lexer": "ipython3",
   "version": "3.12.2"
  }
 },
 "nbformat": 4,
 "nbformat_minor": 5
}
